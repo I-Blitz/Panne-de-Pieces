{
 "cells": [
  {
   "cell_type": "markdown",
   "id": "excessive-tattoo",
   "metadata": {},
   "source": [
    "# Statistiques Descriptives - Panne de pièces "
   ]
  },
  {
   "cell_type": "markdown",
   "id": "capital-titanium",
   "metadata": {},
   "source": [
    "**objectif** : \n",
    "- manipulation de données via Pandas \n",
    "- répondre à une problématique on s'appuyant sur des données "
   ]
  },
  {
   "cell_type": "markdown",
   "id": "caroline-gender",
   "metadata": {},
   "source": [
    "### Introduction \n",
    "Le fabriquant d’un système mécanique propose une garantie associée à son produit. Pendant une\n",
    "période d’exploitation il a fait évoluer son matériel et a distribué trois types de versions de ce\n",
    "produit. Pendant cette même période il a observé une série de pannes qui ont conduit à des retours\n",
    "en atelier pour réparation ou échange. Ces interventions sont à sa charge tant que dure la garantie, il\n",
    "cherche donc à optimiser son appareil en identifiant les éléments les plus impactant. \n",
    "\n",
    "**Problématique : Comment déterminer les composants qui peuvent le plus poser problème ?**\n",
    "\n",
    "On découpera cet exercice de la manière suivante :    \n",
    "La première partie se concentrera sur l'exploration de nos jeu de données, on va chercher à comprendre notre jeu de données, vérifier qu'il est propre et si ce n'est pas le cas, le nettoyer. \n",
    "\n",
    "La seconde partie quand à elle se compose en la recherche de relations entre des variables qui nous semblent pertinentes ainsi que des modèles que l'on pourrait poser sur ces relations ou pouvoir donner les tendances de nos relations. \n",
    "\n",
    "Finalement nous conclurons en donnant les composants qui nous semblent poser le plus de problèmes, expliquer pourquoi en récapitulant ce qui a été fais ainsi que d'expliquer les limites de ce que l'on a fais."
   ]
  },
  {
   "cell_type": "markdown",
   "id": "whole-institution",
   "metadata": {},
   "source": [
    "# I - Exploration des datasets "
   ]
  },
  {
   "cell_type": "code",
   "execution_count": 1,
   "id": "important-hampshire",
   "metadata": {},
   "outputs": [],
   "source": [
    "import numpy as np\n",
    "import pandas as pd\n",
    "import matplotlib.pyplot as plt\n",
    "from sklearn.linear_model import LinearRegression"
   ]
  },
  {
   "cell_type": "markdown",
   "id": "consolidated-cruise",
   "metadata": {},
   "source": [
    "On a à disposition deux dataframes, facteur et cout que nous allons étudier plus loin"
   ]
  },
  {
   "cell_type": "code",
   "execution_count": 2,
   "id": "north-moses",
   "metadata": {},
   "outputs": [],
   "source": [
    "facteur = pd.read_excel(io ='data_exercice.xlsx', sheet_name = 'Facteurs')\n",
    "cout = pd.read_excel(io = 'data_exercice.xlsx', sheet_name = 'Cout')"
   ]
  },
  {
   "cell_type": "markdown",
   "id": "hollow-invite",
   "metadata": {},
   "source": [
    "## I.1) Exploration du dataframe facteur"
   ]
  },
  {
   "cell_type": "code",
   "execution_count": 3,
   "id": "unlimited-hybrid",
   "metadata": {},
   "outputs": [
    {
     "data": {
      "text/html": [
       "<div>\n",
       "<style scoped>\n",
       "    .dataframe tbody tr th:only-of-type {\n",
       "        vertical-align: middle;\n",
       "    }\n",
       "\n",
       "    .dataframe tbody tr th {\n",
       "        vertical-align: top;\n",
       "    }\n",
       "\n",
       "    .dataframe thead th {\n",
       "        text-align: right;\n",
       "    }\n",
       "</style>\n",
       "<table border=\"1\" class=\"dataframe\">\n",
       "  <thead>\n",
       "    <tr style=\"text-align: right;\">\n",
       "      <th></th>\n",
       "      <th>Id</th>\n",
       "      <th>Version</th>\n",
       "      <th>D1</th>\n",
       "      <th>D2</th>\n",
       "      <th>Panne</th>\n",
       "      <th>X1</th>\n",
       "      <th>X2</th>\n",
       "      <th>X3</th>\n",
       "      <th>X4</th>\n",
       "      <th>X5</th>\n",
       "      <th>X6</th>\n",
       "      <th>X7</th>\n",
       "      <th>X8</th>\n",
       "      <th>X9</th>\n",
       "      <th>X10</th>\n",
       "      <th>X11</th>\n",
       "      <th>X12</th>\n",
       "      <th>X13</th>\n",
       "      <th>X14</th>\n",
       "      <th>X15</th>\n",
       "    </tr>\n",
       "  </thead>\n",
       "  <tbody>\n",
       "    <tr>\n",
       "      <th>0</th>\n",
       "      <td>348606</td>\n",
       "      <td>v3</td>\n",
       "      <td>13665.09</td>\n",
       "      <td>11751.56</td>\n",
       "      <td>G</td>\n",
       "      <td>0</td>\n",
       "      <td>0</td>\n",
       "      <td>0</td>\n",
       "      <td>1</td>\n",
       "      <td>0</td>\n",
       "      <td>1</td>\n",
       "      <td>0</td>\n",
       "      <td>0</td>\n",
       "      <td>0</td>\n",
       "      <td>0</td>\n",
       "      <td>0</td>\n",
       "      <td>0</td>\n",
       "      <td>0</td>\n",
       "      <td>0</td>\n",
       "      <td>0</td>\n",
       "    </tr>\n",
       "    <tr>\n",
       "      <th>1</th>\n",
       "      <td>348762</td>\n",
       "      <td>v2</td>\n",
       "      <td>4888.38</td>\n",
       "      <td>3944.48</td>\n",
       "      <td>A</td>\n",
       "      <td>0</td>\n",
       "      <td>0</td>\n",
       "      <td>0</td>\n",
       "      <td>1</td>\n",
       "      <td>0</td>\n",
       "      <td>1</td>\n",
       "      <td>0</td>\n",
       "      <td>1</td>\n",
       "      <td>0</td>\n",
       "      <td>0</td>\n",
       "      <td>0</td>\n",
       "      <td>0</td>\n",
       "      <td>0</td>\n",
       "      <td>0</td>\n",
       "      <td>0</td>\n",
       "    </tr>\n",
       "    <tr>\n",
       "      <th>2</th>\n",
       "      <td>348855</td>\n",
       "      <td>v1</td>\n",
       "      <td>10273.96</td>\n",
       "      <td>13592.97</td>\n",
       "      <td>A</td>\n",
       "      <td>1</td>\n",
       "      <td>0</td>\n",
       "      <td>1</td>\n",
       "      <td>1</td>\n",
       "      <td>0</td>\n",
       "      <td>1</td>\n",
       "      <td>0</td>\n",
       "      <td>0</td>\n",
       "      <td>0</td>\n",
       "      <td>1</td>\n",
       "      <td>0</td>\n",
       "      <td>0</td>\n",
       "      <td>0</td>\n",
       "      <td>1</td>\n",
       "      <td>0</td>\n",
       "    </tr>\n",
       "    <tr>\n",
       "      <th>3</th>\n",
       "      <td>348906</td>\n",
       "      <td>v2</td>\n",
       "      <td>2149.26</td>\n",
       "      <td>3965.84</td>\n",
       "      <td>C</td>\n",
       "      <td>0</td>\n",
       "      <td>0</td>\n",
       "      <td>0</td>\n",
       "      <td>0</td>\n",
       "      <td>0</td>\n",
       "      <td>0</td>\n",
       "      <td>1</td>\n",
       "      <td>0</td>\n",
       "      <td>0</td>\n",
       "      <td>1</td>\n",
       "      <td>0</td>\n",
       "      <td>0</td>\n",
       "      <td>0</td>\n",
       "      <td>0</td>\n",
       "      <td>0</td>\n",
       "    </tr>\n",
       "    <tr>\n",
       "      <th>4</th>\n",
       "      <td>348946</td>\n",
       "      <td>v3</td>\n",
       "      <td>1.13</td>\n",
       "      <td>6.23</td>\n",
       "      <td>D</td>\n",
       "      <td>0</td>\n",
       "      <td>0</td>\n",
       "      <td>0</td>\n",
       "      <td>0</td>\n",
       "      <td>0</td>\n",
       "      <td>0</td>\n",
       "      <td>0</td>\n",
       "      <td>0</td>\n",
       "      <td>0</td>\n",
       "      <td>0</td>\n",
       "      <td>0</td>\n",
       "      <td>0</td>\n",
       "      <td>0</td>\n",
       "      <td>0</td>\n",
       "      <td>1</td>\n",
       "    </tr>\n",
       "  </tbody>\n",
       "</table>\n",
       "</div>"
      ],
      "text/plain": [
       "       Id Version        D1        D2 Panne  X1  X2  X3  X4  X5  X6  X7  X8  \\\n",
       "0  348606      v3  13665.09  11751.56     G   0   0   0   1   0   1   0   0   \n",
       "1  348762      v2   4888.38   3944.48     A   0   0   0   1   0   1   0   1   \n",
       "2  348855      v1  10273.96  13592.97     A   1   0   1   1   0   1   0   0   \n",
       "3  348906      v2   2149.26   3965.84     C   0   0   0   0   0   0   1   0   \n",
       "4  348946      v3      1.13      6.23     D   0   0   0   0   0   0   0   0   \n",
       "\n",
       "   X9  X10  X11  X12  X13  X14  X15  \n",
       "0   0    0    0    0    0    0    0  \n",
       "1   0    0    0    0    0    0    0  \n",
       "2   0    1    0    0    0    1    0  \n",
       "3   0    1    0    0    0    0    0  \n",
       "4   0    0    0    0    0    0    1  "
      ]
     },
     "execution_count": 3,
     "metadata": {},
     "output_type": "execute_result"
    }
   ],
   "source": [
    "facteur.head()"
   ]
  },
  {
   "cell_type": "markdown",
   "id": "stylish-shelf",
   "metadata": {},
   "source": [
    "#### description du dataframe\n",
    "- Id : identifiant de la pièce (supposé unique !)\n",
    "- Version : version de la pièce (3 versions possible : v1,v2,v3)\n",
    "- D1 & D2 : durée de fonctionnement pour les deux modes de fonctionnement de l'appareil\n",
    "- Panne : type de panne (A à I)\n",
    "- X1, ... X15 : les diagnostiques    \n",
    "    - le diagnostique Xk correspond à un problème sur le composant k    \n",
    "    => par abus de notation, on parlera du composant k pour parler du diagnostique Xk"
   ]
  },
  {
   "cell_type": "code",
   "execution_count": 4,
   "id": "violent-token",
   "metadata": {},
   "outputs": [
    {
     "name": "stdout",
     "output_type": "stream",
     "text": [
      "shape du dataframe (461, 20)\n"
     ]
    }
   ],
   "source": [
    "print(\"shape du dataframe {}\".format(facteur.shape))"
   ]
  },
  {
   "cell_type": "markdown",
   "id": "dedicated-traveler",
   "metadata": {},
   "source": [
    "On sait ce que l'on est censé avoir dans notre dataframe, maintenant on peut se demander s'il ne nous manque pas certaines données ou si certaines données sont en doubles etc."
   ]
  },
  {
   "cell_type": "markdown",
   "id": "indirect-memorial",
   "metadata": {},
   "source": [
    "### I.1.1) nettoyage du dataframe facteur "
   ]
  },
  {
   "cell_type": "markdown",
   "id": "forty-earth",
   "metadata": {},
   "source": [
    "Regardons d'abord si nous n'avons pas des valeurs en double etc. "
   ]
  },
  {
   "cell_type": "code",
   "execution_count": 5,
   "id": "stretch-minimum",
   "metadata": {},
   "outputs": [
    {
     "name": "stdout",
     "output_type": "stream",
     "text": [
      "Il y'a 0 élément en double\n"
     ]
    }
   ],
   "source": [
    "duplica = facteur.duplicated().sum()\n",
    "if duplica > 1:\n",
    "    print(\"Il y'a {} éléments en double\".format(facteur.duplicated().sum()))\n",
    "else:\n",
    "    print(\"Il y'a {} élément en double\".format(facteur.duplicated().sum()))\n"
   ]
  },
  {
   "cell_type": "markdown",
   "id": "disturbed-counter",
   "metadata": {},
   "source": [
    "Maintenant qu'on sait qu'il n'y'a pas de doublons, on peut se demander s'il y'a des valeurs aberrantes ou manquantes. \n",
    "On considère que les valeurs aberrantes sont les cas où on aurait une panne / problème d'une pièce alors qu'on ne l'a jamais utilisé (donc D1 = D2 = 0)"
   ]
  },
  {
   "cell_type": "code",
   "execution_count": 6,
   "id": "willing-tamil",
   "metadata": {},
   "outputs": [],
   "source": [
    "duplica = facteur[(facteur['D1'] == 0) & (facteur['D2'] == 0)]"
   ]
  },
  {
   "cell_type": "code",
   "execution_count": 7,
   "id": "contrary-advancement",
   "metadata": {},
   "outputs": [
    {
     "data": {
      "text/html": [
       "<div>\n",
       "<style scoped>\n",
       "    .dataframe tbody tr th:only-of-type {\n",
       "        vertical-align: middle;\n",
       "    }\n",
       "\n",
       "    .dataframe tbody tr th {\n",
       "        vertical-align: top;\n",
       "    }\n",
       "\n",
       "    .dataframe thead th {\n",
       "        text-align: right;\n",
       "    }\n",
       "</style>\n",
       "<table border=\"1\" class=\"dataframe\">\n",
       "  <thead>\n",
       "    <tr style=\"text-align: right;\">\n",
       "      <th></th>\n",
       "      <th>Id</th>\n",
       "      <th>Version</th>\n",
       "      <th>D1</th>\n",
       "      <th>D2</th>\n",
       "      <th>Panne</th>\n",
       "      <th>X1</th>\n",
       "      <th>X2</th>\n",
       "      <th>X3</th>\n",
       "      <th>X4</th>\n",
       "      <th>X5</th>\n",
       "      <th>X6</th>\n",
       "      <th>X7</th>\n",
       "      <th>X8</th>\n",
       "      <th>X9</th>\n",
       "      <th>X10</th>\n",
       "      <th>X11</th>\n",
       "      <th>X12</th>\n",
       "      <th>X13</th>\n",
       "      <th>X14</th>\n",
       "      <th>X15</th>\n",
       "    </tr>\n",
       "  </thead>\n",
       "  <tbody>\n",
       "    <tr>\n",
       "      <th>392</th>\n",
       "      <td>387538</td>\n",
       "      <td>v3</td>\n",
       "      <td>0.0</td>\n",
       "      <td>0.0</td>\n",
       "      <td>E</td>\n",
       "      <td>0</td>\n",
       "      <td>0</td>\n",
       "      <td>0</td>\n",
       "      <td>0</td>\n",
       "      <td>1</td>\n",
       "      <td>0</td>\n",
       "      <td>0</td>\n",
       "      <td>0</td>\n",
       "      <td>0</td>\n",
       "      <td>0</td>\n",
       "      <td>0</td>\n",
       "      <td>0</td>\n",
       "      <td>0</td>\n",
       "      <td>0</td>\n",
       "      <td>0</td>\n",
       "    </tr>\n",
       "    <tr>\n",
       "      <th>422</th>\n",
       "      <td>390634</td>\n",
       "      <td>v1</td>\n",
       "      <td>0.0</td>\n",
       "      <td>0.0</td>\n",
       "      <td>E</td>\n",
       "      <td>0</td>\n",
       "      <td>0</td>\n",
       "      <td>0</td>\n",
       "      <td>1</td>\n",
       "      <td>0</td>\n",
       "      <td>0</td>\n",
       "      <td>0</td>\n",
       "      <td>0</td>\n",
       "      <td>0</td>\n",
       "      <td>0</td>\n",
       "      <td>0</td>\n",
       "      <td>0</td>\n",
       "      <td>0</td>\n",
       "      <td>0</td>\n",
       "      <td>0</td>\n",
       "    </tr>\n",
       "  </tbody>\n",
       "</table>\n",
       "</div>"
      ],
      "text/plain": [
       "         Id Version   D1   D2 Panne  X1  X2  X3  X4  X5  X6  X7  X8  X9  X10  \\\n",
       "392  387538      v3  0.0  0.0     E   0   0   0   0   1   0   0   0   0    0   \n",
       "422  390634      v1  0.0  0.0     E   0   0   0   1   0   0   0   0   0    0   \n",
       "\n",
       "     X11  X12  X13  X14  X15  \n",
       "392    0    0    0    0    0  \n",
       "422    0    0    0    0    0  "
      ]
     },
     "execution_count": 7,
     "metadata": {},
     "output_type": "execute_result"
    }
   ],
   "source": [
    "duplica.head()"
   ]
  },
  {
   "cell_type": "code",
   "execution_count": 8,
   "id": "honest-lebanon",
   "metadata": {},
   "outputs": [
    {
     "name": "stdout",
     "output_type": "stream",
     "text": [
      "shape avant drop : (461, 20)\n",
      "shape du dataframe (459, 20)\n"
     ]
    }
   ],
   "source": [
    "print(\"shape avant drop : {}\".format(facteur.shape))\n",
    "facteur = facteur.drop(duplica.index)\n",
    "print(\"shape du dataframe {}\".format(facteur.shape))"
   ]
  },
  {
   "cell_type": "markdown",
   "id": "standard-actor",
   "metadata": {},
   "source": [
    "Maintenant on peut regarder les cas où l'on aurait des pannes mais que l'on aurait pas eu de diagnostique pour au moins un composant. "
   ]
  },
  {
   "cell_type": "code",
   "execution_count": 9,
   "id": "complex-landing",
   "metadata": {},
   "outputs": [],
   "source": [
    "liste_features = facteur.columns.tolist()\n",
    "\n",
    "test_compo = list(map(lambda txt: txt.startswith('X'), liste_features))\n",
    "\n",
    "liste_compo = []\n",
    "for i in range(len(liste_features)):\n",
    "    if test_compo[i] == True:\n",
    "        liste_compo.append(liste_features[i])\n",
    "        \n",
    "df_compo = facteur[liste_compo]"
   ]
  },
  {
   "cell_type": "code",
   "execution_count": 10,
   "id": "cultural-fighter",
   "metadata": {},
   "outputs": [
    {
     "data": {
      "text/html": [
       "<div>\n",
       "<style scoped>\n",
       "    .dataframe tbody tr th:only-of-type {\n",
       "        vertical-align: middle;\n",
       "    }\n",
       "\n",
       "    .dataframe tbody tr th {\n",
       "        vertical-align: top;\n",
       "    }\n",
       "\n",
       "    .dataframe thead th {\n",
       "        text-align: right;\n",
       "    }\n",
       "</style>\n",
       "<table border=\"1\" class=\"dataframe\">\n",
       "  <thead>\n",
       "    <tr style=\"text-align: right;\">\n",
       "      <th></th>\n",
       "      <th>X1</th>\n",
       "      <th>X2</th>\n",
       "      <th>X3</th>\n",
       "      <th>X4</th>\n",
       "      <th>X5</th>\n",
       "      <th>X6</th>\n",
       "      <th>X7</th>\n",
       "      <th>X8</th>\n",
       "      <th>X9</th>\n",
       "      <th>X10</th>\n",
       "      <th>X11</th>\n",
       "      <th>X12</th>\n",
       "      <th>X13</th>\n",
       "      <th>X14</th>\n",
       "      <th>X15</th>\n",
       "    </tr>\n",
       "  </thead>\n",
       "  <tbody>\n",
       "    <tr>\n",
       "      <th>0</th>\n",
       "      <td>0</td>\n",
       "      <td>0</td>\n",
       "      <td>0</td>\n",
       "      <td>1</td>\n",
       "      <td>0</td>\n",
       "      <td>1</td>\n",
       "      <td>0</td>\n",
       "      <td>0</td>\n",
       "      <td>0</td>\n",
       "      <td>0</td>\n",
       "      <td>0</td>\n",
       "      <td>0</td>\n",
       "      <td>0</td>\n",
       "      <td>0</td>\n",
       "      <td>0</td>\n",
       "    </tr>\n",
       "    <tr>\n",
       "      <th>1</th>\n",
       "      <td>0</td>\n",
       "      <td>0</td>\n",
       "      <td>0</td>\n",
       "      <td>1</td>\n",
       "      <td>0</td>\n",
       "      <td>1</td>\n",
       "      <td>0</td>\n",
       "      <td>1</td>\n",
       "      <td>0</td>\n",
       "      <td>0</td>\n",
       "      <td>0</td>\n",
       "      <td>0</td>\n",
       "      <td>0</td>\n",
       "      <td>0</td>\n",
       "      <td>0</td>\n",
       "    </tr>\n",
       "    <tr>\n",
       "      <th>2</th>\n",
       "      <td>1</td>\n",
       "      <td>0</td>\n",
       "      <td>1</td>\n",
       "      <td>1</td>\n",
       "      <td>0</td>\n",
       "      <td>1</td>\n",
       "      <td>0</td>\n",
       "      <td>0</td>\n",
       "      <td>0</td>\n",
       "      <td>1</td>\n",
       "      <td>0</td>\n",
       "      <td>0</td>\n",
       "      <td>0</td>\n",
       "      <td>1</td>\n",
       "      <td>0</td>\n",
       "    </tr>\n",
       "    <tr>\n",
       "      <th>3</th>\n",
       "      <td>0</td>\n",
       "      <td>0</td>\n",
       "      <td>0</td>\n",
       "      <td>0</td>\n",
       "      <td>0</td>\n",
       "      <td>0</td>\n",
       "      <td>1</td>\n",
       "      <td>0</td>\n",
       "      <td>0</td>\n",
       "      <td>1</td>\n",
       "      <td>0</td>\n",
       "      <td>0</td>\n",
       "      <td>0</td>\n",
       "      <td>0</td>\n",
       "      <td>0</td>\n",
       "    </tr>\n",
       "    <tr>\n",
       "      <th>4</th>\n",
       "      <td>0</td>\n",
       "      <td>0</td>\n",
       "      <td>0</td>\n",
       "      <td>0</td>\n",
       "      <td>0</td>\n",
       "      <td>0</td>\n",
       "      <td>0</td>\n",
       "      <td>0</td>\n",
       "      <td>0</td>\n",
       "      <td>0</td>\n",
       "      <td>0</td>\n",
       "      <td>0</td>\n",
       "      <td>0</td>\n",
       "      <td>0</td>\n",
       "      <td>1</td>\n",
       "    </tr>\n",
       "  </tbody>\n",
       "</table>\n",
       "</div>"
      ],
      "text/plain": [
       "   X1  X2  X3  X4  X5  X6  X7  X8  X9  X10  X11  X12  X13  X14  X15\n",
       "0   0   0   0   1   0   1   0   0   0    0    0    0    0    0    0\n",
       "1   0   0   0   1   0   1   0   1   0    0    0    0    0    0    0\n",
       "2   1   0   1   1   0   1   0   0   0    1    0    0    0    1    0\n",
       "3   0   0   0   0   0   0   1   0   0    1    0    0    0    0    0\n",
       "4   0   0   0   0   0   0   0   0   0    0    0    0    0    0    1"
      ]
     },
     "execution_count": 10,
     "metadata": {},
     "output_type": "execute_result"
    }
   ],
   "source": [
    "df_compo.head()"
   ]
  },
  {
   "cell_type": "code",
   "execution_count": 11,
   "id": "deluxe-testament",
   "metadata": {},
   "outputs": [],
   "source": [
    "somme_diag = df_compo.sum(axis = 1)\n",
    "pas_de_diag = somme_diag.index[somme_diag.values == 0].tolist()\n",
    "\n",
    "facteur = facteur.drop(pas_de_diag) "
   ]
  },
  {
   "cell_type": "code",
   "execution_count": 12,
   "id": "phantom-seminar",
   "metadata": {},
   "outputs": [
    {
     "name": "stdout",
     "output_type": "stream",
     "text": [
      "On a donc 444 cas de pièces défectueuses pour 434 pièces uniques\n"
     ]
    }
   ],
   "source": [
    "print(\"On a donc {} cas de pièces défectueuses pour {} pièces uniques\".format(facteur.shape[0], len(facteur['Id'].unique())))"
   ]
  },
  {
   "cell_type": "markdown",
   "id": "behavioral-battle",
   "metadata": {},
   "source": [
    "### I.1.2) nettoyage du dataframe cout"
   ]
  },
  {
   "cell_type": "code",
   "execution_count": 13,
   "id": "neural-flight",
   "metadata": {},
   "outputs": [
    {
     "data": {
      "text/html": [
       "<div>\n",
       "<style scoped>\n",
       "    .dataframe tbody tr th:only-of-type {\n",
       "        vertical-align: middle;\n",
       "    }\n",
       "\n",
       "    .dataframe tbody tr th {\n",
       "        vertical-align: top;\n",
       "    }\n",
       "\n",
       "    .dataframe thead th {\n",
       "        text-align: right;\n",
       "    }\n",
       "</style>\n",
       "<table border=\"1\" class=\"dataframe\">\n",
       "  <thead>\n",
       "    <tr style=\"text-align: right;\">\n",
       "      <th></th>\n",
       "      <th>Id</th>\n",
       "      <th>Panne</th>\n",
       "      <th>Cout</th>\n",
       "    </tr>\n",
       "  </thead>\n",
       "  <tbody>\n",
       "    <tr>\n",
       "      <th>0</th>\n",
       "      <td>349483</td>\n",
       "      <td>A</td>\n",
       "      <td>15.84</td>\n",
       "    </tr>\n",
       "    <tr>\n",
       "      <th>1</th>\n",
       "      <td>350021</td>\n",
       "      <td>D</td>\n",
       "      <td>19.14</td>\n",
       "    </tr>\n",
       "    <tr>\n",
       "      <th>2</th>\n",
       "      <td>350212</td>\n",
       "      <td>B</td>\n",
       "      <td>9.90</td>\n",
       "    </tr>\n",
       "    <tr>\n",
       "      <th>3</th>\n",
       "      <td>351351</td>\n",
       "      <td>F</td>\n",
       "      <td>4.40</td>\n",
       "    </tr>\n",
       "    <tr>\n",
       "      <th>4</th>\n",
       "      <td>351351</td>\n",
       "      <td>F</td>\n",
       "      <td>28.16</td>\n",
       "    </tr>\n",
       "  </tbody>\n",
       "</table>\n",
       "</div>"
      ],
      "text/plain": [
       "       Id Panne   Cout\n",
       "0  349483     A  15.84\n",
       "1  350021     D  19.14\n",
       "2  350212     B   9.90\n",
       "3  351351     F   4.40\n",
       "4  351351     F  28.16"
      ]
     },
     "execution_count": 13,
     "metadata": {},
     "output_type": "execute_result"
    }
   ],
   "source": [
    "cout.head()"
   ]
  },
  {
   "cell_type": "markdown",
   "id": "czech-reconstruction",
   "metadata": {},
   "source": [
    "#### description du dataframe\n",
    "- Id : identifiant de la pièce (supposé unique !)\n",
    "- Panne : type de panne (A à I)\n",
    "- Cout : cout de réparation de la panne    "
   ]
  },
  {
   "cell_type": "markdown",
   "id": "organized-threshold",
   "metadata": {},
   "source": [
    "On peut commencer par se dire que si notre cout de réparation est nul, c'est qu'il y'a un problème. Il y'a forcément quelque chose à réparer etc. donc on a besoin d'un minimum d'argent. Les cas où on a un cout nul peuvent donc être considérés comme aberrant."
   ]
  },
  {
   "cell_type": "code",
   "execution_count": 14,
   "id": "killing-sacrifice",
   "metadata": {},
   "outputs": [],
   "source": [
    "cout_nul = cout[cout['Cout'] == 0]"
   ]
  },
  {
   "cell_type": "code",
   "execution_count": 15,
   "id": "exterior-violin",
   "metadata": {},
   "outputs": [
    {
     "data": {
      "text/html": [
       "<div>\n",
       "<style scoped>\n",
       "    .dataframe tbody tr th:only-of-type {\n",
       "        vertical-align: middle;\n",
       "    }\n",
       "\n",
       "    .dataframe tbody tr th {\n",
       "        vertical-align: top;\n",
       "    }\n",
       "\n",
       "    .dataframe thead th {\n",
       "        text-align: right;\n",
       "    }\n",
       "</style>\n",
       "<table border=\"1\" class=\"dataframe\">\n",
       "  <thead>\n",
       "    <tr style=\"text-align: right;\">\n",
       "      <th></th>\n",
       "      <th>Id</th>\n",
       "      <th>Panne</th>\n",
       "      <th>Cout</th>\n",
       "    </tr>\n",
       "  </thead>\n",
       "  <tbody>\n",
       "    <tr>\n",
       "      <th>10</th>\n",
       "      <td>354517</td>\n",
       "      <td>E</td>\n",
       "      <td>0.0</td>\n",
       "    </tr>\n",
       "    <tr>\n",
       "      <th>49</th>\n",
       "      <td>369558</td>\n",
       "      <td>E</td>\n",
       "      <td>0.0</td>\n",
       "    </tr>\n",
       "    <tr>\n",
       "      <th>96</th>\n",
       "      <td>387694</td>\n",
       "      <td>D</td>\n",
       "      <td>0.0</td>\n",
       "    </tr>\n",
       "    <tr>\n",
       "      <th>100</th>\n",
       "      <td>388446</td>\n",
       "      <td>D</td>\n",
       "      <td>0.0</td>\n",
       "    </tr>\n",
       "  </tbody>\n",
       "</table>\n",
       "</div>"
      ],
      "text/plain": [
       "         Id Panne  Cout\n",
       "10   354517     E   0.0\n",
       "49   369558     E   0.0\n",
       "96   387694     D   0.0\n",
       "100  388446     D   0.0"
      ]
     },
     "execution_count": 15,
     "metadata": {},
     "output_type": "execute_result"
    }
   ],
   "source": [
    "cout_nul.head()"
   ]
  },
  {
   "cell_type": "code",
   "execution_count": 16,
   "id": "running-bookmark",
   "metadata": {},
   "outputs": [
    {
     "name": "stdout",
     "output_type": "stream",
     "text": [
      "shape de count avant drop : (109, 3)\n",
      "shape de count après drop : (105, 3)\n"
     ]
    }
   ],
   "source": [
    "print(\"shape de count avant drop : {}\".format(cout.shape))\n",
    "cout = cout.drop(cout_nul.index)\n",
    "print(\"shape de count après drop : {}\".format(cout.shape))"
   ]
  },
  {
   "cell_type": "markdown",
   "id": "auburn-feelings",
   "metadata": {},
   "source": [
    "### I.2) Recherche d'informations dans le dataframe facteur"
   ]
  },
  {
   "cell_type": "code",
   "execution_count": 17,
   "id": "homeless-proportion",
   "metadata": {},
   "outputs": [
    {
     "data": {
      "text/plain": [
       "A    224\n",
       "F     60\n",
       "G     50\n",
       "E     31\n",
       "D     30\n",
       "C     20\n",
       "I     14\n",
       "B      9\n",
       "H      6\n",
       "Name: Panne, dtype: int64"
      ]
     },
     "execution_count": 17,
     "metadata": {},
     "output_type": "execute_result"
    }
   ],
   "source": [
    "Occurence_Panne = facteur['Panne'].value_counts()\n",
    "Occurence_Panne"
   ]
  },
  {
   "cell_type": "code",
   "execution_count": 18,
   "id": "cross-norman",
   "metadata": {},
   "outputs": [
    {
     "data": {
      "image/png": "[encoded data removed]",
      "text/plain": [
       "<Figure size 576x432 with 1 Axes>"
      ]
     },
     "metadata": {
      "needs_background": "light"
     },
     "output_type": "display_data"
    }
   ],
   "source": [
    "fig_panne,ax_panne = plt.subplots(figsize=(8,6))\n",
    "plt.bar(np.arange(Occurence_Panne.size),Occurence_Panne, tick_label = Occurence_Panne.index.tolist())\n",
    "plt.title(\"Occurences des pannes selon le type de panne\")\n",
    "plt.xlabel(\"type de pannes\")\n",
    "plt.ylabel(\"occurences\")\n",
    "plt.show()"
   ]
  },
  {
   "cell_type": "markdown",
   "id": "august-hughes",
   "metadata": {},
   "source": [
    "Déjà on se rend compte qu'un type de panne (la panne A) représente la majorité des pannes."
   ]
  },
  {
   "cell_type": "markdown",
   "id": "endless-broadcast",
   "metadata": {},
   "source": [
    "On peut aussi se demander quels composants (X1,...,X15) tombe le plus souvent en panne."
   ]
  },
  {
   "cell_type": "code",
   "execution_count": 19,
   "id": "super-university",
   "metadata": {},
   "outputs": [
    {
     "data": {
      "image/png": "[encoded data removed]",
      "text/plain": [
       "<Figure size 576x432 with 1 Axes>"
      ]
     },
     "metadata": {
      "needs_background": "light"
     },
     "output_type": "display_data"
    }
   ],
   "source": [
    "fig_panne_comp,ax_panne_comp = plt.subplots(figsize=(8,6))\n",
    "plt.bar(np.arange(df_compo.sum(axis = 0).size),df_compo.sum(axis = 0), tick_label = df_compo.columns.tolist())\n",
    "plt.title(\"Occurences des pannes selon le composant\")\n",
    "plt.xlabel(\"composants\")\n",
    "plt.ylabel(\"occurence panne du composant\")\n",
    "plt.show()"
   ]
  },
  {
   "cell_type": "markdown",
   "id": "canadian-coaching",
   "metadata": {},
   "source": [
    "On remarque que la répartition des pannes de composants n'est pas du tout uniforme. En effet X4 et X6 dominent largement suivi de X14 et X1. De plus il n'y'a aucun cas de pannes pour X12. on pourrait donc déjà recommander au fabriquant de s'intéresser à pourquoi ces composants en particulier tombent en panne."
   ]
  },
  {
   "cell_type": "markdown",
   "id": "pointed-capability",
   "metadata": {},
   "source": [
    "Maintenant on peut aussi se demander quel est l'impact de la version de la pièce sur le nombre d'occurences des pannes"
   ]
  },
  {
   "cell_type": "code",
   "execution_count": 20,
   "id": "quantitative-tract",
   "metadata": {},
   "outputs": [],
   "source": [
    "# On crée les df composés uniquement des mêmes versions\n",
    "facteur_v1 = facteur[facteur['Version'] == 'v1']\n",
    "facteur_v2 = facteur[facteur['Version'] == 'v2']\n",
    "facteur_v3 = facteur[facteur['Version'] == 'v3']\n",
    "\n",
    "# on ne considère que les diagnostiques pour ces versions\n",
    "facteur_v1 = facteur_v1[liste_compo]\n",
    "facteur_v2 = facteur_v2[liste_compo]\n",
    "facteur_v3 = facteur_v3[liste_compo]\n",
    "\n",
    "# pour chaque version on fait la somme pour obtenir le nombre de cas de panne par diagnostique\n",
    "facteur_v1 = facteur_v1.sum(axis=0)\n",
    "facteur_v2 = facteur_v2.sum(axis=0)\n",
    "facteur_v3 = facteur_v3.sum(axis=0)"
   ]
  },
  {
   "cell_type": "code",
   "execution_count": 21,
   "id": "intelligent-cooler",
   "metadata": {},
   "outputs": [
    {
     "data": {
      "text/plain": [
       "X1     4\n",
       "X2     2\n",
       "X3     3\n",
       "X4    12\n",
       "X5     0\n",
       "dtype: int64"
      ]
     },
     "execution_count": 21,
     "metadata": {},
     "output_type": "execute_result"
    }
   ],
   "source": [
    "facteur_v2.head()"
   ]
  },
  {
   "cell_type": "code",
   "execution_count": 22,
   "id": "military-beauty",
   "metadata": {},
   "outputs": [],
   "source": [
    "df_facteur_versions= pd.concat([facteur_v1.rename('v1'), facteur_v2.rename('v2'), facteur_v3.rename('v3')], axis=1)"
   ]
  },
  {
   "cell_type": "code",
   "execution_count": 23,
   "id": "declared-cursor",
   "metadata": {},
   "outputs": [
    {
     "data": {
      "text/html": [
       "<div>\n",
       "<style scoped>\n",
       "    .dataframe tbody tr th:only-of-type {\n",
       "        vertical-align: middle;\n",
       "    }\n",
       "\n",
       "    .dataframe tbody tr th {\n",
       "        vertical-align: top;\n",
       "    }\n",
       "\n",
       "    .dataframe thead th {\n",
       "        text-align: right;\n",
       "    }\n",
       "</style>\n",
       "<table border=\"1\" class=\"dataframe\">\n",
       "  <thead>\n",
       "    <tr style=\"text-align: right;\">\n",
       "      <th></th>\n",
       "      <th>v1</th>\n",
       "      <th>v2</th>\n",
       "      <th>v3</th>\n",
       "    </tr>\n",
       "  </thead>\n",
       "  <tbody>\n",
       "    <tr>\n",
       "      <th>X1</th>\n",
       "      <td>91</td>\n",
       "      <td>4</td>\n",
       "      <td>60</td>\n",
       "    </tr>\n",
       "    <tr>\n",
       "      <th>X2</th>\n",
       "      <td>46</td>\n",
       "      <td>2</td>\n",
       "      <td>38</td>\n",
       "    </tr>\n",
       "    <tr>\n",
       "      <th>X3</th>\n",
       "      <td>41</td>\n",
       "      <td>3</td>\n",
       "      <td>24</td>\n",
       "    </tr>\n",
       "    <tr>\n",
       "      <th>X4</th>\n",
       "      <td>143</td>\n",
       "      <td>12</td>\n",
       "      <td>88</td>\n",
       "    </tr>\n",
       "    <tr>\n",
       "      <th>X5</th>\n",
       "      <td>10</td>\n",
       "      <td>0</td>\n",
       "      <td>7</td>\n",
       "    </tr>\n",
       "  </tbody>\n",
       "</table>\n",
       "</div>"
      ],
      "text/plain": [
       "     v1  v2  v3\n",
       "X1   91   4  60\n",
       "X2   46   2  38\n",
       "X3   41   3  24\n",
       "X4  143  12  88\n",
       "X5   10   0   7"
      ]
     },
     "execution_count": 23,
     "metadata": {},
     "output_type": "execute_result"
    }
   ],
   "source": [
    "df_facteur_versions.head()"
   ]
  },
  {
   "cell_type": "code",
   "execution_count": 24,
   "id": "loose-regular",
   "metadata": {},
   "outputs": [
    {
     "name": "stdout",
     "output_type": "stream",
     "text": [
      "Pour la version : v1, on a 772 occurences de pannes\n",
      "Pour la version : v2, on a 49 occurences de pannes\n",
      "Pour la version : v3, on a 469 occurences de pannes\n"
     ]
    }
   ],
   "source": [
    "for val in df_facteur_versions.columns.tolist():\n",
    "    print(\"Pour la version : {}, on a {} occurences de pannes\".format(val,df_facteur_versions[val].sum(axis =0)))"
   ]
  },
  {
   "cell_type": "code",
   "execution_count": 25,
   "id": "dressed-discipline",
   "metadata": {},
   "outputs": [
    {
     "data": {
      "text/plain": [
       "Text(0.5, 1.0, 'Occurences totales')"
      ]
     },
     "execution_count": 25,
     "metadata": {},
     "output_type": "execute_result"
    },
    {
     "data": {
      "image/png": "[encoded data removed]",
      "text/plain": [
       "<Figure size 576x432 with 1 Axes>"
      ]
     },
     "metadata": {
      "needs_background": "light"
     },
     "output_type": "display_data"
    }
   ],
   "source": [
    "ax_oc = df_facteur_versions.plot.barh(stacked=True, figsize = (8,6))\n",
    "for i, v in enumerate(df_facteur_versions.sum(axis=1)):\n",
    "    ax_oc.text(v + 2.5, i-0.2 , str(v))\n",
    "    \n",
    "ax_oc.set_xlabel(\"nombre de pannes\")\n",
    "ax_oc.set_ylabel(\"diagnostiques/composants\")\n",
    "ax_oc.set_title(\"Occurences totales\")"
   ]
  },
  {
   "cell_type": "markdown",
   "id": "southern-lindsay",
   "metadata": {},
   "source": [
    "On remarque que la v1 des pièces est celle qui engendre le plus de pannes. la version v2 le minimum et la version v3 l'entre deux. Toutefois ce raisonnement est très vite limité car certes on connaît le nombre de pannes pour chaque versions mais pas le nombre total de pièces. Il y'a peut-être eu 1 million de pièces v1 60 pièces v2 et 800 pièces v3 au total.    \n",
    "N'ayant pas le numéro du fabricant, nous ne pourrons pas obtenir cette information. On ne peut donc à priori pas dire grand chose de plus que par rapport à un graphique précédent."
   ]
  },
  {
   "cell_type": "markdown",
   "id": "bound-mixture",
   "metadata": {},
   "source": [
    "### I.3)  Création d'un dataframe \"augmenté\""
   ]
  },
  {
   "cell_type": "markdown",
   "id": "composite-continuity",
   "metadata": {},
   "source": [
    "Le gros problème du dataframe coût est que si on le considère seul, on a très peu d'informations."
   ]
  },
  {
   "cell_type": "code",
   "execution_count": 26,
   "id": "metropolitan-effectiveness",
   "metadata": {},
   "outputs": [
    {
     "data": {
      "text/html": [
       "<div>\n",
       "<style scoped>\n",
       "    .dataframe tbody tr th:only-of-type {\n",
       "        vertical-align: middle;\n",
       "    }\n",
       "\n",
       "    .dataframe tbody tr th {\n",
       "        vertical-align: top;\n",
       "    }\n",
       "\n",
       "    .dataframe thead th {\n",
       "        text-align: right;\n",
       "    }\n",
       "</style>\n",
       "<table border=\"1\" class=\"dataframe\">\n",
       "  <thead>\n",
       "    <tr style=\"text-align: right;\">\n",
       "      <th></th>\n",
       "      <th>Id</th>\n",
       "      <th>Panne</th>\n",
       "      <th>Cout</th>\n",
       "    </tr>\n",
       "  </thead>\n",
       "  <tbody>\n",
       "    <tr>\n",
       "      <th>0</th>\n",
       "      <td>349483</td>\n",
       "      <td>A</td>\n",
       "      <td>15.84</td>\n",
       "    </tr>\n",
       "    <tr>\n",
       "      <th>1</th>\n",
       "      <td>350021</td>\n",
       "      <td>D</td>\n",
       "      <td>19.14</td>\n",
       "    </tr>\n",
       "    <tr>\n",
       "      <th>2</th>\n",
       "      <td>350212</td>\n",
       "      <td>B</td>\n",
       "      <td>9.90</td>\n",
       "    </tr>\n",
       "    <tr>\n",
       "      <th>3</th>\n",
       "      <td>351351</td>\n",
       "      <td>F</td>\n",
       "      <td>4.40</td>\n",
       "    </tr>\n",
       "    <tr>\n",
       "      <th>4</th>\n",
       "      <td>351351</td>\n",
       "      <td>F</td>\n",
       "      <td>28.16</td>\n",
       "    </tr>\n",
       "  </tbody>\n",
       "</table>\n",
       "</div>"
      ],
      "text/plain": [
       "       Id Panne   Cout\n",
       "0  349483     A  15.84\n",
       "1  350021     D  19.14\n",
       "2  350212     B   9.90\n",
       "3  351351     F   4.40\n",
       "4  351351     F  28.16"
      ]
     },
     "execution_count": 26,
     "metadata": {},
     "output_type": "execute_result"
    }
   ],
   "source": [
    "cout.head()"
   ]
  },
  {
   "cell_type": "markdown",
   "id": "worst-darkness",
   "metadata": {},
   "source": [
    "On va donc plutôt considérer un dataframe \"augmenté\". En effet comme on peut se servir d'Id et de Panne comme des identifiants uniques, on peut trouver dans le dataframe facteur les élements dont les coûts sont recensés dans le dataframe coût. On va donc pouvoir en extraire des informations en plus."
   ]
  },
  {
   "cell_type": "code",
   "execution_count": 27,
   "id": "genuine-jerusalem",
   "metadata": {},
   "outputs": [],
   "source": [
    "facteur_cout_commun = pd.merge(facteur, cout, how ='inner', on =['Id', 'Panne'])"
   ]
  },
  {
   "cell_type": "code",
   "execution_count": 28,
   "id": "little-orange",
   "metadata": {},
   "outputs": [
    {
     "data": {
      "text/html": [
       "<div>\n",
       "<style scoped>\n",
       "    .dataframe tbody tr th:only-of-type {\n",
       "        vertical-align: middle;\n",
       "    }\n",
       "\n",
       "    .dataframe tbody tr th {\n",
       "        vertical-align: top;\n",
       "    }\n",
       "\n",
       "    .dataframe thead th {\n",
       "        text-align: right;\n",
       "    }\n",
       "</style>\n",
       "<table border=\"1\" class=\"dataframe\">\n",
       "  <thead>\n",
       "    <tr style=\"text-align: right;\">\n",
       "      <th></th>\n",
       "      <th>Id</th>\n",
       "      <th>Version</th>\n",
       "      <th>D1</th>\n",
       "      <th>D2</th>\n",
       "      <th>Panne</th>\n",
       "      <th>X1</th>\n",
       "      <th>X2</th>\n",
       "      <th>X3</th>\n",
       "      <th>X4</th>\n",
       "      <th>X5</th>\n",
       "      <th>...</th>\n",
       "      <th>X7</th>\n",
       "      <th>X8</th>\n",
       "      <th>X9</th>\n",
       "      <th>X10</th>\n",
       "      <th>X11</th>\n",
       "      <th>X12</th>\n",
       "      <th>X13</th>\n",
       "      <th>X14</th>\n",
       "      <th>X15</th>\n",
       "      <th>Cout</th>\n",
       "    </tr>\n",
       "  </thead>\n",
       "  <tbody>\n",
       "    <tr>\n",
       "      <th>0</th>\n",
       "      <td>350212</td>\n",
       "      <td>v2</td>\n",
       "      <td>4231.85</td>\n",
       "      <td>4021.02</td>\n",
       "      <td>B</td>\n",
       "      <td>1</td>\n",
       "      <td>0</td>\n",
       "      <td>0</td>\n",
       "      <td>1</td>\n",
       "      <td>0</td>\n",
       "      <td>...</td>\n",
       "      <td>0</td>\n",
       "      <td>0</td>\n",
       "      <td>0</td>\n",
       "      <td>0</td>\n",
       "      <td>0</td>\n",
       "      <td>0</td>\n",
       "      <td>0</td>\n",
       "      <td>0</td>\n",
       "      <td>0</td>\n",
       "      <td>9.90</td>\n",
       "    </tr>\n",
       "    <tr>\n",
       "      <th>1</th>\n",
       "      <td>351351</td>\n",
       "      <td>v1</td>\n",
       "      <td>7200.36</td>\n",
       "      <td>5472.61</td>\n",
       "      <td>F</td>\n",
       "      <td>0</td>\n",
       "      <td>0</td>\n",
       "      <td>0</td>\n",
       "      <td>1</td>\n",
       "      <td>0</td>\n",
       "      <td>...</td>\n",
       "      <td>0</td>\n",
       "      <td>0</td>\n",
       "      <td>0</td>\n",
       "      <td>0</td>\n",
       "      <td>0</td>\n",
       "      <td>0</td>\n",
       "      <td>0</td>\n",
       "      <td>0</td>\n",
       "      <td>0</td>\n",
       "      <td>4.40</td>\n",
       "    </tr>\n",
       "    <tr>\n",
       "      <th>2</th>\n",
       "      <td>351351</td>\n",
       "      <td>v1</td>\n",
       "      <td>7200.36</td>\n",
       "      <td>5472.61</td>\n",
       "      <td>F</td>\n",
       "      <td>0</td>\n",
       "      <td>0</td>\n",
       "      <td>0</td>\n",
       "      <td>1</td>\n",
       "      <td>0</td>\n",
       "      <td>...</td>\n",
       "      <td>0</td>\n",
       "      <td>0</td>\n",
       "      <td>0</td>\n",
       "      <td>0</td>\n",
       "      <td>0</td>\n",
       "      <td>0</td>\n",
       "      <td>0</td>\n",
       "      <td>0</td>\n",
       "      <td>0</td>\n",
       "      <td>28.16</td>\n",
       "    </tr>\n",
       "    <tr>\n",
       "      <th>3</th>\n",
       "      <td>352686</td>\n",
       "      <td>v3</td>\n",
       "      <td>769.53</td>\n",
       "      <td>1144.54</td>\n",
       "      <td>D</td>\n",
       "      <td>0</td>\n",
       "      <td>0</td>\n",
       "      <td>0</td>\n",
       "      <td>0</td>\n",
       "      <td>0</td>\n",
       "      <td>...</td>\n",
       "      <td>0</td>\n",
       "      <td>0</td>\n",
       "      <td>0</td>\n",
       "      <td>0</td>\n",
       "      <td>0</td>\n",
       "      <td>0</td>\n",
       "      <td>0</td>\n",
       "      <td>1</td>\n",
       "      <td>0</td>\n",
       "      <td>38.94</td>\n",
       "    </tr>\n",
       "    <tr>\n",
       "      <th>4</th>\n",
       "      <td>353361</td>\n",
       "      <td>v3</td>\n",
       "      <td>7096.40</td>\n",
       "      <td>8261.87</td>\n",
       "      <td>E</td>\n",
       "      <td>0</td>\n",
       "      <td>0</td>\n",
       "      <td>0</td>\n",
       "      <td>0</td>\n",
       "      <td>0</td>\n",
       "      <td>...</td>\n",
       "      <td>0</td>\n",
       "      <td>0</td>\n",
       "      <td>0</td>\n",
       "      <td>0</td>\n",
       "      <td>0</td>\n",
       "      <td>0</td>\n",
       "      <td>0</td>\n",
       "      <td>0</td>\n",
       "      <td>1</td>\n",
       "      <td>8.14</td>\n",
       "    </tr>\n",
       "  </tbody>\n",
       "</table>\n",
       "<p>5 rows × 21 columns</p>\n",
       "</div>"
      ],
      "text/plain": [
       "       Id Version       D1       D2 Panne  X1  X2  X3  X4  X5  ...  X7  X8  \\\n",
       "0  350212      v2  4231.85  4021.02     B   1   0   0   1   0  ...   0   0   \n",
       "1  351351      v1  7200.36  5472.61     F   0   0   0   1   0  ...   0   0   \n",
       "2  351351      v1  7200.36  5472.61     F   0   0   0   1   0  ...   0   0   \n",
       "3  352686      v3   769.53  1144.54     D   0   0   0   0   0  ...   0   0   \n",
       "4  353361      v3  7096.40  8261.87     E   0   0   0   0   0  ...   0   0   \n",
       "\n",
       "   X9  X10  X11  X12  X13  X14  X15   Cout  \n",
       "0   0    0    0    0    0    0    0   9.90  \n",
       "1   0    0    0    0    0    0    0   4.40  \n",
       "2   0    0    0    0    0    0    0  28.16  \n",
       "3   0    0    0    0    0    1    0  38.94  \n",
       "4   0    0    0    0    0    0    1   8.14  \n",
       "\n",
       "[5 rows x 21 columns]"
      ]
     },
     "execution_count": 28,
     "metadata": {},
     "output_type": "execute_result"
    }
   ],
   "source": [
    "facteur_cout_commun.head()"
   ]
  },
  {
   "cell_type": "markdown",
   "id": "billion-witch",
   "metadata": {},
   "source": [
    "On se rend compte qu'on a seulement les coûts associés aux pannes. Comme ce qui nous intéresse ce sont les coûts associés aux composants/diagnostiques, on va devoir un peu modifier ce nouveau dataframe.    \n",
    "\n",
    "Etant donné qu'une panne peut être dû à plusieurs composants, ici on a fait le choix de dire que pour une panne\n",
    "le coût total de la panne était réparti uniformément sur les différents composants. Il s'agit bien entendu d'une hypothèse de modélisation."
   ]
  },
  {
   "cell_type": "code",
   "execution_count": 29,
   "id": "organizational-musical",
   "metadata": {},
   "outputs": [],
   "source": [
    "for val in liste_compo:\n",
    "    facteur_cout_commun['Cout_{}'.format(val)] = np.zeros(facteur_cout_commun.shape[0])\n",
    "\n",
    "\n",
    "compteur = 0\n",
    "for j in range(facteur_cout_commun.shape[0]):\n",
    "    for val in liste_compo:\n",
    "        if (facteur_cout_commun.loc[j,val] > 0):\n",
    "            compteur += 1\n",
    "    for val in liste_compo:\n",
    "        if (facteur_cout_commun.loc[j,val] > 0):\n",
    "            facteur_cout_commun.loc[j,'Cout_{}'.format(val)] = facteur_cout_commun.loc[j,'Cout']/compteur\n",
    "    compteur = 0\n",
    "    \n",
    "facteur_cout_commun.drop(['Cout'], axis=1, inplace = True)"
   ]
  },
  {
   "cell_type": "code",
   "execution_count": 30,
   "id": "suffering-criterion",
   "metadata": {},
   "outputs": [
    {
     "data": {
      "text/html": [
       "<div>\n",
       "<style scoped>\n",
       "    .dataframe tbody tr th:only-of-type {\n",
       "        vertical-align: middle;\n",
       "    }\n",
       "\n",
       "    .dataframe tbody tr th {\n",
       "        vertical-align: top;\n",
       "    }\n",
       "\n",
       "    .dataframe thead th {\n",
       "        text-align: right;\n",
       "    }\n",
       "</style>\n",
       "<table border=\"1\" class=\"dataframe\">\n",
       "  <thead>\n",
       "    <tr style=\"text-align: right;\">\n",
       "      <th></th>\n",
       "      <th>Id</th>\n",
       "      <th>Version</th>\n",
       "      <th>D1</th>\n",
       "      <th>D2</th>\n",
       "      <th>Panne</th>\n",
       "      <th>X1</th>\n",
       "      <th>X2</th>\n",
       "      <th>X3</th>\n",
       "      <th>X4</th>\n",
       "      <th>X5</th>\n",
       "      <th>...</th>\n",
       "      <th>Cout_X6</th>\n",
       "      <th>Cout_X7</th>\n",
       "      <th>Cout_X8</th>\n",
       "      <th>Cout_X9</th>\n",
       "      <th>Cout_X10</th>\n",
       "      <th>Cout_X11</th>\n",
       "      <th>Cout_X12</th>\n",
       "      <th>Cout_X13</th>\n",
       "      <th>Cout_X14</th>\n",
       "      <th>Cout_X15</th>\n",
       "    </tr>\n",
       "  </thead>\n",
       "  <tbody>\n",
       "    <tr>\n",
       "      <th>0</th>\n",
       "      <td>350212</td>\n",
       "      <td>v2</td>\n",
       "      <td>4231.85</td>\n",
       "      <td>4021.02</td>\n",
       "      <td>B</td>\n",
       "      <td>1</td>\n",
       "      <td>0</td>\n",
       "      <td>0</td>\n",
       "      <td>1</td>\n",
       "      <td>0</td>\n",
       "      <td>...</td>\n",
       "      <td>3.30</td>\n",
       "      <td>0.0</td>\n",
       "      <td>0.0</td>\n",
       "      <td>0.0</td>\n",
       "      <td>0.0</td>\n",
       "      <td>0.0</td>\n",
       "      <td>0.0</td>\n",
       "      <td>0.0</td>\n",
       "      <td>0.00</td>\n",
       "      <td>0.00</td>\n",
       "    </tr>\n",
       "    <tr>\n",
       "      <th>1</th>\n",
       "      <td>351351</td>\n",
       "      <td>v1</td>\n",
       "      <td>7200.36</td>\n",
       "      <td>5472.61</td>\n",
       "      <td>F</td>\n",
       "      <td>0</td>\n",
       "      <td>0</td>\n",
       "      <td>0</td>\n",
       "      <td>1</td>\n",
       "      <td>0</td>\n",
       "      <td>...</td>\n",
       "      <td>2.20</td>\n",
       "      <td>0.0</td>\n",
       "      <td>0.0</td>\n",
       "      <td>0.0</td>\n",
       "      <td>0.0</td>\n",
       "      <td>0.0</td>\n",
       "      <td>0.0</td>\n",
       "      <td>0.0</td>\n",
       "      <td>0.00</td>\n",
       "      <td>0.00</td>\n",
       "    </tr>\n",
       "    <tr>\n",
       "      <th>2</th>\n",
       "      <td>351351</td>\n",
       "      <td>v1</td>\n",
       "      <td>7200.36</td>\n",
       "      <td>5472.61</td>\n",
       "      <td>F</td>\n",
       "      <td>0</td>\n",
       "      <td>0</td>\n",
       "      <td>0</td>\n",
       "      <td>1</td>\n",
       "      <td>0</td>\n",
       "      <td>...</td>\n",
       "      <td>14.08</td>\n",
       "      <td>0.0</td>\n",
       "      <td>0.0</td>\n",
       "      <td>0.0</td>\n",
       "      <td>0.0</td>\n",
       "      <td>0.0</td>\n",
       "      <td>0.0</td>\n",
       "      <td>0.0</td>\n",
       "      <td>0.00</td>\n",
       "      <td>0.00</td>\n",
       "    </tr>\n",
       "    <tr>\n",
       "      <th>3</th>\n",
       "      <td>352686</td>\n",
       "      <td>v3</td>\n",
       "      <td>769.53</td>\n",
       "      <td>1144.54</td>\n",
       "      <td>D</td>\n",
       "      <td>0</td>\n",
       "      <td>0</td>\n",
       "      <td>0</td>\n",
       "      <td>0</td>\n",
       "      <td>0</td>\n",
       "      <td>...</td>\n",
       "      <td>19.47</td>\n",
       "      <td>0.0</td>\n",
       "      <td>0.0</td>\n",
       "      <td>0.0</td>\n",
       "      <td>0.0</td>\n",
       "      <td>0.0</td>\n",
       "      <td>0.0</td>\n",
       "      <td>0.0</td>\n",
       "      <td>19.47</td>\n",
       "      <td>0.00</td>\n",
       "    </tr>\n",
       "    <tr>\n",
       "      <th>4</th>\n",
       "      <td>353361</td>\n",
       "      <td>v3</td>\n",
       "      <td>7096.40</td>\n",
       "      <td>8261.87</td>\n",
       "      <td>E</td>\n",
       "      <td>0</td>\n",
       "      <td>0</td>\n",
       "      <td>0</td>\n",
       "      <td>0</td>\n",
       "      <td>0</td>\n",
       "      <td>...</td>\n",
       "      <td>0.00</td>\n",
       "      <td>0.0</td>\n",
       "      <td>0.0</td>\n",
       "      <td>0.0</td>\n",
       "      <td>0.0</td>\n",
       "      <td>0.0</td>\n",
       "      <td>0.0</td>\n",
       "      <td>0.0</td>\n",
       "      <td>0.00</td>\n",
       "      <td>8.14</td>\n",
       "    </tr>\n",
       "  </tbody>\n",
       "</table>\n",
       "<p>5 rows × 35 columns</p>\n",
       "</div>"
      ],
      "text/plain": [
       "       Id Version       D1       D2 Panne  X1  X2  X3  X4  X5  ...  Cout_X6  \\\n",
       "0  350212      v2  4231.85  4021.02     B   1   0   0   1   0  ...     3.30   \n",
       "1  351351      v1  7200.36  5472.61     F   0   0   0   1   0  ...     2.20   \n",
       "2  351351      v1  7200.36  5472.61     F   0   0   0   1   0  ...    14.08   \n",
       "3  352686      v3   769.53  1144.54     D   0   0   0   0   0  ...    19.47   \n",
       "4  353361      v3  7096.40  8261.87     E   0   0   0   0   0  ...     0.00   \n",
       "\n",
       "   Cout_X7  Cout_X8  Cout_X9  Cout_X10  Cout_X11  Cout_X12  Cout_X13  \\\n",
       "0      0.0      0.0      0.0       0.0       0.0       0.0       0.0   \n",
       "1      0.0      0.0      0.0       0.0       0.0       0.0       0.0   \n",
       "2      0.0      0.0      0.0       0.0       0.0       0.0       0.0   \n",
       "3      0.0      0.0      0.0       0.0       0.0       0.0       0.0   \n",
       "4      0.0      0.0      0.0       0.0       0.0       0.0       0.0   \n",
       "\n",
       "   Cout_X14  Cout_X15  \n",
       "0      0.00      0.00  \n",
       "1      0.00      0.00  \n",
       "2      0.00      0.00  \n",
       "3     19.47      0.00  \n",
       "4      0.00      8.14  \n",
       "\n",
       "[5 rows x 35 columns]"
      ]
     },
     "execution_count": 30,
     "metadata": {},
     "output_type": "execute_result"
    }
   ],
   "source": [
    "facteur_cout_commun.head()"
   ]
  },
  {
   "cell_type": "markdown",
   "id": "israeli-phoenix",
   "metadata": {},
   "source": [
    "# II) A la recherche de relations "
   ]
  },
  {
   "cell_type": "markdown",
   "id": "sustainable-import",
   "metadata": {},
   "source": [
    "### II.1)  relation coût-occurence"
   ]
  },
  {
   "cell_type": "markdown",
   "id": "nearby-paste",
   "metadata": {},
   "source": [
    "Une des premières relations qui peut nous intéresser est le lien entre le coût et le nombre d'occurences des pannes de composants. En tant que constructeur, ce sont des données qui nous sont essentielles."
   ]
  },
  {
   "cell_type": "code",
   "execution_count": 31,
   "id": "other-turner",
   "metadata": {},
   "outputs": [],
   "source": [
    "# On crée les df composés uniquement des mêmes versions\n",
    "facteur_cout_v1 = facteur_cout_commun[facteur_cout_commun['Version'] == 'v1']\n",
    "facteur_cout_v2 = facteur_cout_commun[facteur_cout_commun['Version'] == 'v2']\n",
    "facteur_cout_v3 = facteur_cout_commun[facteur_cout_commun['Version'] == 'v3']"
   ]
  },
  {
   "cell_type": "code",
   "execution_count": 32,
   "id": "endless-citizen",
   "metadata": {},
   "outputs": [
    {
     "data": {
      "text/html": [
       "<div>\n",
       "<style scoped>\n",
       "    .dataframe tbody tr th:only-of-type {\n",
       "        vertical-align: middle;\n",
       "    }\n",
       "\n",
       "    .dataframe tbody tr th {\n",
       "        vertical-align: top;\n",
       "    }\n",
       "\n",
       "    .dataframe thead th {\n",
       "        text-align: right;\n",
       "    }\n",
       "</style>\n",
       "<table border=\"1\" class=\"dataframe\">\n",
       "  <thead>\n",
       "    <tr style=\"text-align: right;\">\n",
       "      <th></th>\n",
       "      <th>Id</th>\n",
       "      <th>Version</th>\n",
       "      <th>D1</th>\n",
       "      <th>D2</th>\n",
       "      <th>Panne</th>\n",
       "      <th>X1</th>\n",
       "      <th>X2</th>\n",
       "      <th>X3</th>\n",
       "      <th>X4</th>\n",
       "      <th>X5</th>\n",
       "      <th>...</th>\n",
       "      <th>Cout_X6</th>\n",
       "      <th>Cout_X7</th>\n",
       "      <th>Cout_X8</th>\n",
       "      <th>Cout_X9</th>\n",
       "      <th>Cout_X10</th>\n",
       "      <th>Cout_X11</th>\n",
       "      <th>Cout_X12</th>\n",
       "      <th>Cout_X13</th>\n",
       "      <th>Cout_X14</th>\n",
       "      <th>Cout_X15</th>\n",
       "    </tr>\n",
       "  </thead>\n",
       "  <tbody>\n",
       "    <tr>\n",
       "      <th>1</th>\n",
       "      <td>351351</td>\n",
       "      <td>v1</td>\n",
       "      <td>7200.36</td>\n",
       "      <td>5472.61</td>\n",
       "      <td>F</td>\n",
       "      <td>0</td>\n",
       "      <td>0</td>\n",
       "      <td>0</td>\n",
       "      <td>1</td>\n",
       "      <td>0</td>\n",
       "      <td>...</td>\n",
       "      <td>2.200000</td>\n",
       "      <td>0.0</td>\n",
       "      <td>0.000000</td>\n",
       "      <td>0.00</td>\n",
       "      <td>0.0</td>\n",
       "      <td>0.0</td>\n",
       "      <td>0.0</td>\n",
       "      <td>0.0</td>\n",
       "      <td>0.0</td>\n",
       "      <td>0.0</td>\n",
       "    </tr>\n",
       "    <tr>\n",
       "      <th>2</th>\n",
       "      <td>351351</td>\n",
       "      <td>v1</td>\n",
       "      <td>7200.36</td>\n",
       "      <td>5472.61</td>\n",
       "      <td>F</td>\n",
       "      <td>0</td>\n",
       "      <td>0</td>\n",
       "      <td>0</td>\n",
       "      <td>1</td>\n",
       "      <td>0</td>\n",
       "      <td>...</td>\n",
       "      <td>14.080000</td>\n",
       "      <td>0.0</td>\n",
       "      <td>0.000000</td>\n",
       "      <td>0.00</td>\n",
       "      <td>0.0</td>\n",
       "      <td>0.0</td>\n",
       "      <td>0.0</td>\n",
       "      <td>0.0</td>\n",
       "      <td>0.0</td>\n",
       "      <td>0.0</td>\n",
       "    </tr>\n",
       "    <tr>\n",
       "      <th>5</th>\n",
       "      <td>353373</td>\n",
       "      <td>v1</td>\n",
       "      <td>6987.92</td>\n",
       "      <td>6207.75</td>\n",
       "      <td>A</td>\n",
       "      <td>0</td>\n",
       "      <td>0</td>\n",
       "      <td>0</td>\n",
       "      <td>1</td>\n",
       "      <td>0</td>\n",
       "      <td>...</td>\n",
       "      <td>23.833333</td>\n",
       "      <td>0.0</td>\n",
       "      <td>23.833333</td>\n",
       "      <td>0.00</td>\n",
       "      <td>0.0</td>\n",
       "      <td>0.0</td>\n",
       "      <td>0.0</td>\n",
       "      <td>0.0</td>\n",
       "      <td>0.0</td>\n",
       "      <td>0.0</td>\n",
       "    </tr>\n",
       "    <tr>\n",
       "      <th>7</th>\n",
       "      <td>354517</td>\n",
       "      <td>v1</td>\n",
       "      <td>7819.60</td>\n",
       "      <td>9210.61</td>\n",
       "      <td>E</td>\n",
       "      <td>1</td>\n",
       "      <td>1</td>\n",
       "      <td>0</td>\n",
       "      <td>1</td>\n",
       "      <td>0</td>\n",
       "      <td>...</td>\n",
       "      <td>4.180000</td>\n",
       "      <td>0.0</td>\n",
       "      <td>0.000000</td>\n",
       "      <td>4.18</td>\n",
       "      <td>0.0</td>\n",
       "      <td>0.0</td>\n",
       "      <td>0.0</td>\n",
       "      <td>0.0</td>\n",
       "      <td>0.0</td>\n",
       "      <td>0.0</td>\n",
       "    </tr>\n",
       "    <tr>\n",
       "      <th>8</th>\n",
       "      <td>354517</td>\n",
       "      <td>v1</td>\n",
       "      <td>7819.60</td>\n",
       "      <td>9210.61</td>\n",
       "      <td>E</td>\n",
       "      <td>1</td>\n",
       "      <td>1</td>\n",
       "      <td>0</td>\n",
       "      <td>1</td>\n",
       "      <td>0</td>\n",
       "      <td>...</td>\n",
       "      <td>11.000000</td>\n",
       "      <td>0.0</td>\n",
       "      <td>0.000000</td>\n",
       "      <td>11.00</td>\n",
       "      <td>0.0</td>\n",
       "      <td>0.0</td>\n",
       "      <td>0.0</td>\n",
       "      <td>0.0</td>\n",
       "      <td>0.0</td>\n",
       "      <td>0.0</td>\n",
       "    </tr>\n",
       "  </tbody>\n",
       "</table>\n",
       "<p>5 rows × 35 columns</p>\n",
       "</div>"
      ],
      "text/plain": [
       "       Id Version       D1       D2 Panne  X1  X2  X3  X4  X5  ...    Cout_X6  \\\n",
       "1  351351      v1  7200.36  5472.61     F   0   0   0   1   0  ...   2.200000   \n",
       "2  351351      v1  7200.36  5472.61     F   0   0   0   1   0  ...  14.080000   \n",
       "5  353373      v1  6987.92  6207.75     A   0   0   0   1   0  ...  23.833333   \n",
       "7  354517      v1  7819.60  9210.61     E   1   1   0   1   0  ...   4.180000   \n",
       "8  354517      v1  7819.60  9210.61     E   1   1   0   1   0  ...  11.000000   \n",
       "\n",
       "   Cout_X7    Cout_X8  Cout_X9  Cout_X10  Cout_X11  Cout_X12  Cout_X13  \\\n",
       "1      0.0   0.000000     0.00       0.0       0.0       0.0       0.0   \n",
       "2      0.0   0.000000     0.00       0.0       0.0       0.0       0.0   \n",
       "5      0.0  23.833333     0.00       0.0       0.0       0.0       0.0   \n",
       "7      0.0   0.000000     4.18       0.0       0.0       0.0       0.0   \n",
       "8      0.0   0.000000    11.00       0.0       0.0       0.0       0.0   \n",
       "\n",
       "   Cout_X14  Cout_X15  \n",
       "1       0.0       0.0  \n",
       "2       0.0       0.0  \n",
       "5       0.0       0.0  \n",
       "7       0.0       0.0  \n",
       "8       0.0       0.0  \n",
       "\n",
       "[5 rows x 35 columns]"
      ]
     },
     "execution_count": 32,
     "metadata": {},
     "output_type": "execute_result"
    }
   ],
   "source": [
    "facteur_cout_v1.head()"
   ]
  },
  {
   "cell_type": "code",
   "execution_count": 33,
   "id": "invalid-sending",
   "metadata": {},
   "outputs": [],
   "source": [
    "liste_cout = []\n",
    "for col in facteur_cout_commun.columns.tolist():\n",
    "        if col.startswith('Cout'):\n",
    "            liste_cout.append(col)"
   ]
  },
  {
   "cell_type": "code",
   "execution_count": 34,
   "id": "faced-producer",
   "metadata": {},
   "outputs": [
    {
     "data": {
      "text/plain": [
       "['Cout_X1',\n",
       " 'Cout_X2',\n",
       " 'Cout_X3',\n",
       " 'Cout_X4',\n",
       " 'Cout_X5',\n",
       " 'Cout_X6',\n",
       " 'Cout_X7',\n",
       " 'Cout_X8',\n",
       " 'Cout_X9',\n",
       " 'Cout_X10',\n",
       " 'Cout_X11',\n",
       " 'Cout_X12',\n",
       " 'Cout_X13',\n",
       " 'Cout_X14',\n",
       " 'Cout_X15']"
      ]
     },
     "execution_count": 34,
     "metadata": {},
     "output_type": "execute_result"
    }
   ],
   "source": [
    "liste_cout"
   ]
  },
  {
   "cell_type": "code",
   "execution_count": 35,
   "id": "rocky-hazard",
   "metadata": {},
   "outputs": [],
   "source": [
    "# on ne considère que les diagnostiques pour ces versions\n",
    "facteur_cout_f_v1 = facteur_cout_v1[liste_compo]\n",
    "facteur_cout_f_v2 = facteur_cout_v2[liste_compo]\n",
    "facteur_cout_f_v3 = facteur_cout_v3[liste_compo]\n",
    "\n",
    "# on ne considère que les couts pour ces versions\n",
    "facteur_cout_c_v1 = facteur_cout_v1[liste_cout]\n",
    "facteur_cout_c_v2 = facteur_cout_v2[liste_cout]\n",
    "facteur_cout_c_v3 = facteur_cout_v3[liste_cout]"
   ]
  },
  {
   "cell_type": "code",
   "execution_count": 36,
   "id": "arabic-split",
   "metadata": {},
   "outputs": [
    {
     "data": {
      "text/html": [
       "<div>\n",
       "<style scoped>\n",
       "    .dataframe tbody tr th:only-of-type {\n",
       "        vertical-align: middle;\n",
       "    }\n",
       "\n",
       "    .dataframe tbody tr th {\n",
       "        vertical-align: top;\n",
       "    }\n",
       "\n",
       "    .dataframe thead th {\n",
       "        text-align: right;\n",
       "    }\n",
       "</style>\n",
       "<table border=\"1\" class=\"dataframe\">\n",
       "  <thead>\n",
       "    <tr style=\"text-align: right;\">\n",
       "      <th></th>\n",
       "      <th>Cout_X1</th>\n",
       "      <th>Cout_X2</th>\n",
       "      <th>Cout_X3</th>\n",
       "      <th>Cout_X4</th>\n",
       "      <th>Cout_X5</th>\n",
       "      <th>Cout_X6</th>\n",
       "      <th>Cout_X7</th>\n",
       "      <th>Cout_X8</th>\n",
       "      <th>Cout_X9</th>\n",
       "      <th>Cout_X10</th>\n",
       "      <th>Cout_X11</th>\n",
       "      <th>Cout_X12</th>\n",
       "      <th>Cout_X13</th>\n",
       "      <th>Cout_X14</th>\n",
       "      <th>Cout_X15</th>\n",
       "    </tr>\n",
       "  </thead>\n",
       "  <tbody>\n",
       "    <tr>\n",
       "      <th>1</th>\n",
       "      <td>0.00</td>\n",
       "      <td>0.00</td>\n",
       "      <td>0.0</td>\n",
       "      <td>2.200000</td>\n",
       "      <td>0.0</td>\n",
       "      <td>2.200000</td>\n",
       "      <td>0.0</td>\n",
       "      <td>0.000000</td>\n",
       "      <td>0.00</td>\n",
       "      <td>0.0</td>\n",
       "      <td>0.0</td>\n",
       "      <td>0.0</td>\n",
       "      <td>0.0</td>\n",
       "      <td>0.0</td>\n",
       "      <td>0.0</td>\n",
       "    </tr>\n",
       "    <tr>\n",
       "      <th>2</th>\n",
       "      <td>0.00</td>\n",
       "      <td>0.00</td>\n",
       "      <td>0.0</td>\n",
       "      <td>14.080000</td>\n",
       "      <td>0.0</td>\n",
       "      <td>14.080000</td>\n",
       "      <td>0.0</td>\n",
       "      <td>0.000000</td>\n",
       "      <td>0.00</td>\n",
       "      <td>0.0</td>\n",
       "      <td>0.0</td>\n",
       "      <td>0.0</td>\n",
       "      <td>0.0</td>\n",
       "      <td>0.0</td>\n",
       "      <td>0.0</td>\n",
       "    </tr>\n",
       "    <tr>\n",
       "      <th>5</th>\n",
       "      <td>0.00</td>\n",
       "      <td>0.00</td>\n",
       "      <td>0.0</td>\n",
       "      <td>23.833333</td>\n",
       "      <td>0.0</td>\n",
       "      <td>23.833333</td>\n",
       "      <td>0.0</td>\n",
       "      <td>23.833333</td>\n",
       "      <td>0.00</td>\n",
       "      <td>0.0</td>\n",
       "      <td>0.0</td>\n",
       "      <td>0.0</td>\n",
       "      <td>0.0</td>\n",
       "      <td>0.0</td>\n",
       "      <td>0.0</td>\n",
       "    </tr>\n",
       "    <tr>\n",
       "      <th>7</th>\n",
       "      <td>4.18</td>\n",
       "      <td>4.18</td>\n",
       "      <td>0.0</td>\n",
       "      <td>4.180000</td>\n",
       "      <td>0.0</td>\n",
       "      <td>4.180000</td>\n",
       "      <td>0.0</td>\n",
       "      <td>0.000000</td>\n",
       "      <td>4.18</td>\n",
       "      <td>0.0</td>\n",
       "      <td>0.0</td>\n",
       "      <td>0.0</td>\n",
       "      <td>0.0</td>\n",
       "      <td>0.0</td>\n",
       "      <td>0.0</td>\n",
       "    </tr>\n",
       "    <tr>\n",
       "      <th>8</th>\n",
       "      <td>11.00</td>\n",
       "      <td>11.00</td>\n",
       "      <td>0.0</td>\n",
       "      <td>11.000000</td>\n",
       "      <td>0.0</td>\n",
       "      <td>11.000000</td>\n",
       "      <td>0.0</td>\n",
       "      <td>0.000000</td>\n",
       "      <td>11.00</td>\n",
       "      <td>0.0</td>\n",
       "      <td>0.0</td>\n",
       "      <td>0.0</td>\n",
       "      <td>0.0</td>\n",
       "      <td>0.0</td>\n",
       "      <td>0.0</td>\n",
       "    </tr>\n",
       "  </tbody>\n",
       "</table>\n",
       "</div>"
      ],
      "text/plain": [
       "   Cout_X1  Cout_X2  Cout_X3    Cout_X4  Cout_X5    Cout_X6  Cout_X7  \\\n",
       "1     0.00     0.00      0.0   2.200000      0.0   2.200000      0.0   \n",
       "2     0.00     0.00      0.0  14.080000      0.0  14.080000      0.0   \n",
       "5     0.00     0.00      0.0  23.833333      0.0  23.833333      0.0   \n",
       "7     4.18     4.18      0.0   4.180000      0.0   4.180000      0.0   \n",
       "8    11.00    11.00      0.0  11.000000      0.0  11.000000      0.0   \n",
       "\n",
       "     Cout_X8  Cout_X9  Cout_X10  Cout_X11  Cout_X12  Cout_X13  Cout_X14  \\\n",
       "1   0.000000     0.00       0.0       0.0       0.0       0.0       0.0   \n",
       "2   0.000000     0.00       0.0       0.0       0.0       0.0       0.0   \n",
       "5  23.833333     0.00       0.0       0.0       0.0       0.0       0.0   \n",
       "7   0.000000     4.18       0.0       0.0       0.0       0.0       0.0   \n",
       "8   0.000000    11.00       0.0       0.0       0.0       0.0       0.0   \n",
       "\n",
       "   Cout_X15  \n",
       "1       0.0  \n",
       "2       0.0  \n",
       "5       0.0  \n",
       "7       0.0  \n",
       "8       0.0  "
      ]
     },
     "execution_count": 36,
     "metadata": {},
     "output_type": "execute_result"
    }
   ],
   "source": [
    "facteur_cout_c_v1.head()"
   ]
  },
  {
   "cell_type": "code",
   "execution_count": 37,
   "id": "stunning-circumstances",
   "metadata": {},
   "outputs": [],
   "source": [
    "# pour chaque version on fait la somme pour obtenir le prix des réparations pour chaque diagnostiques\n",
    "facteur_cout_c_v1 = facteur_cout_c_v1.sum(axis = 0)\n",
    "facteur_cout_c_v2 = facteur_cout_c_v2.sum(axis = 0)\n",
    "facteur_cout_c_v3 = facteur_cout_c_v3.sum(axis = 0)\n",
    "\n",
    "# pour chaque version on fait la somme pour obtenir le nombre de cas de panne\n",
    "facteur_cout_f_v1 = facteur_cout_f_v1.sum(axis = 0)\n",
    "facteur_cout_f_v2 = facteur_cout_f_v2.sum(axis = 0)\n",
    "facteur_cout_f_v3 = facteur_cout_f_v3.sum(axis = 0)"
   ]
  },
  {
   "cell_type": "code",
   "execution_count": 38,
   "id": "valued-civilian",
   "metadata": {},
   "outputs": [],
   "source": [
    "df_facteur_cout_c_versions = pd.concat([facteur_cout_c_v1.rename('v1'), facteur_cout_c_v2.rename('v2'), facteur_cout_c_v3.rename('v3')], axis=1)\n",
    "df_facteur_cout_f_versions = pd.concat([facteur_cout_f_v1.rename('v1'), facteur_cout_f_v2.rename('v2'), facteur_cout_f_v3.rename('v3')], axis=1)\n",
    "\n",
    "df_facteur_cout_c_versions = df_facteur_cout_c_versions.apply(np.ceil) \n",
    "df_facteur_cout_c_versions = df_facteur_cout_c_versions.astype(int)"
   ]
  },
  {
   "cell_type": "code",
   "execution_count": 39,
   "id": "legendary-dubai",
   "metadata": {},
   "outputs": [
    {
     "data": {
      "text/html": [
       "<div>\n",
       "<style scoped>\n",
       "    .dataframe tbody tr th:only-of-type {\n",
       "        vertical-align: middle;\n",
       "    }\n",
       "\n",
       "    .dataframe tbody tr th {\n",
       "        vertical-align: top;\n",
       "    }\n",
       "\n",
       "    .dataframe thead th {\n",
       "        text-align: right;\n",
       "    }\n",
       "</style>\n",
       "<table border=\"1\" class=\"dataframe\">\n",
       "  <thead>\n",
       "    <tr style=\"text-align: right;\">\n",
       "      <th></th>\n",
       "      <th>v1</th>\n",
       "      <th>v2</th>\n",
       "      <th>v3</th>\n",
       "    </tr>\n",
       "  </thead>\n",
       "  <tbody>\n",
       "    <tr>\n",
       "      <th>Cout_X1</th>\n",
       "      <td>432</td>\n",
       "      <td>10</td>\n",
       "      <td>115</td>\n",
       "    </tr>\n",
       "    <tr>\n",
       "      <th>Cout_X2</th>\n",
       "      <td>78</td>\n",
       "      <td>13</td>\n",
       "      <td>65</td>\n",
       "    </tr>\n",
       "    <tr>\n",
       "      <th>Cout_X3</th>\n",
       "      <td>16</td>\n",
       "      <td>0</td>\n",
       "      <td>65</td>\n",
       "    </tr>\n",
       "    <tr>\n",
       "      <th>Cout_X4</th>\n",
       "      <td>333</td>\n",
       "      <td>80</td>\n",
       "      <td>174</td>\n",
       "    </tr>\n",
       "    <tr>\n",
       "      <th>Cout_X5</th>\n",
       "      <td>20</td>\n",
       "      <td>0</td>\n",
       "      <td>9</td>\n",
       "    </tr>\n",
       "  </tbody>\n",
       "</table>\n",
       "</div>"
      ],
      "text/plain": [
       "          v1  v2   v3\n",
       "Cout_X1  432  10  115\n",
       "Cout_X2   78  13   65\n",
       "Cout_X3   16   0   65\n",
       "Cout_X4  333  80  174\n",
       "Cout_X5   20   0    9"
      ]
     },
     "execution_count": 39,
     "metadata": {},
     "output_type": "execute_result"
    }
   ],
   "source": [
    "df_facteur_cout_c_versions.head()"
   ]
  },
  {
   "cell_type": "code",
   "execution_count": 40,
   "id": "biblical-nightlife",
   "metadata": {},
   "outputs": [
    {
     "data": {
      "text/html": [
       "<div>\n",
       "<style scoped>\n",
       "    .dataframe tbody tr th:only-of-type {\n",
       "        vertical-align: middle;\n",
       "    }\n",
       "\n",
       "    .dataframe tbody tr th {\n",
       "        vertical-align: top;\n",
       "    }\n",
       "\n",
       "    .dataframe thead th {\n",
       "        text-align: right;\n",
       "    }\n",
       "</style>\n",
       "<table border=\"1\" class=\"dataframe\">\n",
       "  <thead>\n",
       "    <tr style=\"text-align: right;\">\n",
       "      <th></th>\n",
       "      <th>v1</th>\n",
       "      <th>v2</th>\n",
       "      <th>v3</th>\n",
       "    </tr>\n",
       "  </thead>\n",
       "  <tbody>\n",
       "    <tr>\n",
       "      <th>X1</th>\n",
       "      <td>23</td>\n",
       "      <td>2</td>\n",
       "      <td>12</td>\n",
       "    </tr>\n",
       "    <tr>\n",
       "      <th>X2</th>\n",
       "      <td>10</td>\n",
       "      <td>2</td>\n",
       "      <td>9</td>\n",
       "    </tr>\n",
       "    <tr>\n",
       "      <th>X3</th>\n",
       "      <td>3</td>\n",
       "      <td>0</td>\n",
       "      <td>7</td>\n",
       "    </tr>\n",
       "    <tr>\n",
       "      <th>X4</th>\n",
       "      <td>33</td>\n",
       "      <td>7</td>\n",
       "      <td>19</td>\n",
       "    </tr>\n",
       "    <tr>\n",
       "      <th>X5</th>\n",
       "      <td>3</td>\n",
       "      <td>0</td>\n",
       "      <td>2</td>\n",
       "    </tr>\n",
       "  </tbody>\n",
       "</table>\n",
       "</div>"
      ],
      "text/plain": [
       "    v1  v2  v3\n",
       "X1  23   2  12\n",
       "X2  10   2   9\n",
       "X3   3   0   7\n",
       "X4  33   7  19\n",
       "X5   3   0   2"
      ]
     },
     "execution_count": 40,
     "metadata": {},
     "output_type": "execute_result"
    }
   ],
   "source": [
    "df_facteur_cout_f_versions.head()"
   ]
  },
  {
   "cell_type": "code",
   "execution_count": 41,
   "id": "civilian-prototype",
   "metadata": {
    "scrolled": false
   },
   "outputs": [
    {
     "data": {
      "text/plain": [
       "Text(0.5, 1.0, 'Occurences des diagnostiques/composants')"
      ]
     },
     "execution_count": 41,
     "metadata": {},
     "output_type": "execute_result"
    },
    {
     "data": {
      "image/png": "[encoded data removed]",
      "text/plain": [
       "<Figure size 576x432 with 1 Axes>"
      ]
     },
     "metadata": {
      "needs_background": "light"
     },
     "output_type": "display_data"
    },
    {
     "data": {
      "image/png": "[encoded data removed]",
      "text/plain": [
       "<Figure size 576x432 with 1 Axes>"
      ]
     },
     "metadata": {
      "needs_background": "light"
     },
     "output_type": "display_data"
    }
   ],
   "source": [
    "ax_cout_c = df_facteur_cout_c_versions.plot.barh(stacked=True, figsize = (8,6))\n",
    "for i, v in enumerate(df_facteur_cout_c_versions.sum(axis=1)):\n",
    "    ax_cout_c.text(v + 2.5, i-0.2 , str(v))\n",
    "    \n",
    "ax_cout_c.set_xlabel(\"€\")\n",
    "ax_cout_c.set_ylabel(\"diagnostique/composant\")\n",
    "ax_cout_c.set_title(\"Cout de réparation des pannes des composants par versions\")\n",
    "\n",
    "ax_cout_f = df_facteur_cout_f_versions.plot.barh(stacked=True, figsize = (8,6))\n",
    "for i, v in enumerate(df_facteur_cout_f_versions.sum(axis=1)):\n",
    "    ax_cout_f.text(v + 0.2, i-0.2 , str(v))\n",
    "    \n",
    "ax_cout_f.set_xlabel(\"occurences\")\n",
    "ax_cout_f.set_ylabel(\"diagnostique/composant\")\n",
    "ax_cout_f.set_title(\"Occurences des diagnostiques/composants\")"
   ]
  },
  {
   "cell_type": "markdown",
   "id": "satellite-somewhere",
   "metadata": {},
   "source": [
    "Ces deux graphiques nous permettent de voir le nombre d'occurence ainsi que le coût de réparation pour chaque diagnostique (avec une petite précision pour différencier les différentes versions). On remarque que X6 et X4 semblent être les premiers qui sortent. On peut essayer de combiner les graphiques suivants en s'intéréssant au cout par occurence."
   ]
  },
  {
   "cell_type": "code",
   "execution_count": 42,
   "id": "confirmed-conservation",
   "metadata": {},
   "outputs": [],
   "source": [
    "valeur_v1 = []\n",
    "valeur_v2 = []\n",
    "valeur_v3 = []\n",
    "\n",
    "n_row = df_facteur_cout_c_versions.shape[0]\n",
    "\n",
    "for j in range(n_row):\n",
    "    if df_facteur_cout_c_versions['v1'][j] > 0:\n",
    "        valeur_v1.append(df_facteur_cout_c_versions['v1'][j]/df_facteur_cout_f_versions['v1'][j])\n",
    "    else :\n",
    "        valeur_v1.append(0)\n",
    "    if df_facteur_cout_c_versions['v2'][j] > 0:  \n",
    "        valeur_v2.append(df_facteur_cout_c_versions['v2'][j]/df_facteur_cout_f_versions['v2'][j])\n",
    "    else :\n",
    "        valeur_v2.append(0)\n",
    "    if df_facteur_cout_c_versions['v3'][j] > 0:  \n",
    "        valeur_v3.append(df_facteur_cout_c_versions['v3'][j]/df_facteur_cout_f_versions['v3'][j])\n",
    "    else :\n",
    "        valeur_v3.append(0)"
   ]
  },
  {
   "cell_type": "code",
   "execution_count": 43,
   "id": "incident-current",
   "metadata": {},
   "outputs": [],
   "source": [
    "df_ratio_cout_facteur = pd.DataFrame({'v1': valeur_v1, 'v2': valeur_v2, 'v3': valeur_v3}, index = liste_compo)\n",
    "\n",
    "df_ratio_cout_facteur = df_ratio_cout_facteur.apply(np.round) \n",
    "df_ratio_cout_facteur = df_ratio_cout_facteur.astype(int)"
   ]
  },
  {
   "cell_type": "code",
   "execution_count": 44,
   "id": "operational-baptist",
   "metadata": {},
   "outputs": [
    {
     "data": {
      "text/html": [
       "<div>\n",
       "<style scoped>\n",
       "    .dataframe tbody tr th:only-of-type {\n",
       "        vertical-align: middle;\n",
       "    }\n",
       "\n",
       "    .dataframe tbody tr th {\n",
       "        vertical-align: top;\n",
       "    }\n",
       "\n",
       "    .dataframe thead th {\n",
       "        text-align: right;\n",
       "    }\n",
       "</style>\n",
       "<table border=\"1\" class=\"dataframe\">\n",
       "  <thead>\n",
       "    <tr style=\"text-align: right;\">\n",
       "      <th></th>\n",
       "      <th>v1</th>\n",
       "      <th>v2</th>\n",
       "      <th>v3</th>\n",
       "    </tr>\n",
       "  </thead>\n",
       "  <tbody>\n",
       "    <tr>\n",
       "      <th>X1</th>\n",
       "      <td>19</td>\n",
       "      <td>5</td>\n",
       "      <td>10</td>\n",
       "    </tr>\n",
       "    <tr>\n",
       "      <th>X2</th>\n",
       "      <td>8</td>\n",
       "      <td>6</td>\n",
       "      <td>7</td>\n",
       "    </tr>\n",
       "    <tr>\n",
       "      <th>X3</th>\n",
       "      <td>5</td>\n",
       "      <td>0</td>\n",
       "      <td>9</td>\n",
       "    </tr>\n",
       "    <tr>\n",
       "      <th>X4</th>\n",
       "      <td>10</td>\n",
       "      <td>11</td>\n",
       "      <td>9</td>\n",
       "    </tr>\n",
       "    <tr>\n",
       "      <th>X5</th>\n",
       "      <td>7</td>\n",
       "      <td>0</td>\n",
       "      <td>4</td>\n",
       "    </tr>\n",
       "  </tbody>\n",
       "</table>\n",
       "</div>"
      ],
      "text/plain": [
       "    v1  v2  v3\n",
       "X1  19   5  10\n",
       "X2   8   6   7\n",
       "X3   5   0   9\n",
       "X4  10  11   9\n",
       "X5   7   0   4"
      ]
     },
     "execution_count": 44,
     "metadata": {},
     "output_type": "execute_result"
    }
   ],
   "source": [
    "df_ratio_cout_facteur.head()"
   ]
  },
  {
   "cell_type": "code",
   "execution_count": 45,
   "id": "roman-level",
   "metadata": {},
   "outputs": [
    {
     "data": {
      "text/plain": [
       "Text(0.5, 1.0, 'Cout moyen des pannes des composants par versions')"
      ]
     },
     "execution_count": 45,
     "metadata": {},
     "output_type": "execute_result"
    },
    {
     "data": {
      "image/png": "[encoded data removed]",
      "text/plain": [
       "<Figure size 648x504 with 1 Axes>"
      ]
     },
     "metadata": {
      "needs_background": "light"
     },
     "output_type": "display_data"
    }
   ],
   "source": [
    "ax_ratio_cout_facteur = df_ratio_cout_facteur.plot.barh(stacked=True, figsize = (9,7))\n",
    "for i, v in enumerate(df_ratio_cout_facteur.sum(axis=1)):\n",
    "    ax_ratio_cout_facteur.text(v + 0.2, i-0.2 , str(v))\n",
    "    \n",
    "ax_ratio_cout_facteur.set_xlabel(\"Coût moyen d'une panne par version\")\n",
    "ax_ratio_cout_facteur.set_ylabel(\"diagnostique/composant\")\n",
    "ax_ratio_cout_facteur.set_title(\"Cout moyen des pannes des composants par versions\")"
   ]
  },
  {
   "cell_type": "markdown",
   "id": "creative-piano",
   "metadata": {},
   "source": [
    "les chiffres en bout de plot représente la somme des coûts moyens pour chaque diagnostique/composant."
   ]
  },
  {
   "cell_type": "markdown",
   "id": "involved-outline",
   "metadata": {},
   "source": [
    "Ce dernier graphique est déjà plus intéréssant. En effet jusqu'à présent on avait un problème car on ne connaissait pas le nombre de pièces totales par version donc compliqué de dire si une version était plus problématique qu'une autre. Ici on a normalisé par les occurences donc ce problème disparaît et surtout comme c'est nous qui nous chargeons des réparations, ce que l'on souhaite minimiser c'est le cout moyen de la panne. En effet on saura que si on un élément k est susceptible de se casser, alors on aura une somme à payer en réparation donc on va chercher à minimiser celle qui en cassant vont nous coûter le plus chère en réparation.    \n",
    "On voit aussi que notre podium à changer en effet ici les deux composants de tête semblent être X11 et X15 !"
   ]
  },
  {
   "cell_type": "markdown",
   "id": "caroline-smith",
   "metadata": {},
   "source": [
    "### petite pause\n",
    "Prenons un peu de recul sur ce que nous avons fais jusque-là !    \n",
    "On rappelle que ce que souhaite le fabricant c'est d'identifier les composants les plus impactants pour les pannes. On a décider de voir impactant sous trois formes :    \n",
    "- La première forme est l'occurence d'un composant dans une panne    \n",
    "   => Cette forme semble assez naturelle car quand on revoit passer plusieurs fois un composant on peut se dire qu'il y'a un problème   \n",
    "- La seconde forme est le coût de réparation    \n",
    "    => En effet voir plusieurs fois un composant passer dans l'atelier peut montrer un problème mais si le coût de réparation est infime, on peut le néglier. Là où si on a un coût assez élevé, quand on le voit passer plusieurs fois, la facture grimpe vite.     \n",
    "- La troisième forme est le ratio cout/occurence.     \n",
    "    => Par cette méthode on a cherché à synthétiser les deux précédentes méthodes tout en se débarassant d'un gros problème : le nombre d'éléments. En effet comme on a pas le nombre total de v1,v2,v3 les occurences sont biaisée. cette méthode semble donc un peu plus juste et elle change les résultats."
   ]
  },
  {
   "cell_type": "markdown",
   "id": "promising-description",
   "metadata": {},
   "source": [
    "### II.1.1) recherche de modèle occurence-cout totale "
   ]
  },
  {
   "cell_type": "markdown",
   "id": "completed-congo",
   "metadata": {},
   "source": [
    "On peut commencer à se demander s'il existe une relation entre les occurences des pannes de composants ainsi que le coût total de réparation d'un composant."
   ]
  },
  {
   "cell_type": "code",
   "execution_count": 46,
   "id": "distinguished-messenger",
   "metadata": {},
   "outputs": [
    {
     "data": {
      "image/png": "[encoded data removed]",
      "text/plain": [
       "<Figure size 576x432 with 1 Axes>"
      ]
     },
     "metadata": {
      "needs_background": "light"
     },
     "output_type": "display_data"
    }
   ],
   "source": [
    "fig,ax = plt.subplots(figsize=(8,6))\n",
    "for i in range(3):\n",
    "    plt.scatter(df_facteur_cout_f_versions['v{}'.format(i+1)].values,\n",
    "                df_facteur_cout_c_versions['v{}'.format(i+1)].values,\n",
    "                label = 'v{}'.format(i+1))\n",
    "\n",
    "for ver in facteur['Version'].unique():\n",
    "    for i, txt in enumerate(liste_compo):\n",
    "        ax.annotate(txt, (df_facteur_cout_f_versions[ver][i], df_facteur_cout_c_versions[ver][i]))\n",
    "    \n",
    "plt.xlabel(\"occurences\")\n",
    "plt.title(\"évolution du coût total selon le nombre d'occurences\")\n",
    "plt.ylabel(\"coût total \")\n",
    "plt.legend()\n",
    "plt.show()"
   ]
  },
  {
   "cell_type": "markdown",
   "id": "ethical-annual",
   "metadata": {},
   "source": [
    "Il semble y'avoir une relation linéaire entre le coût et l'occurence même en prenant compte les différentes versions (si on exclue X1 qui possède un coût total beaucoup moins élevé que les autres)."
   ]
  },
  {
   "cell_type": "code",
   "execution_count": 47,
   "id": "political-locking",
   "metadata": {},
   "outputs": [],
   "source": [
    "X = pd.concat([df_facteur_cout_f_versions['v1'],df_facteur_cout_f_versions['v2'],df_facteur_cout_f_versions['v3']],\n",
    "              axis = 0,\n",
    "              ignore_index = True).values\n",
    "y = pd.concat([df_facteur_cout_c_versions['v1'],df_facteur_cout_c_versions['v2'],df_facteur_cout_c_versions['v3']],\n",
    "              axis = 0,\n",
    "              ignore_index = True).values"
   ]
  },
  {
   "cell_type": "code",
   "execution_count": 48,
   "id": "biological-hormone",
   "metadata": {},
   "outputs": [],
   "source": [
    "X = np.array([[val] for val in X])\n",
    "y = np.array([[val] for val in y])\n",
    "\n",
    "reg = LinearRegression()\n",
    "reg.fit(X, y)\n",
    "\n",
    "X_predict = reg.predict(X)"
   ]
  },
  {
   "cell_type": "code",
   "execution_count": 49,
   "id": "loose-plenty",
   "metadata": {},
   "outputs": [
    {
     "data": {
      "image/png": "[encoded data removed]",
      "text/plain": [
       "<Figure size 576x432 with 1 Axes>"
      ]
     },
     "metadata": {
      "needs_background": "light"
     },
     "output_type": "display_data"
    }
   ],
   "source": [
    "fig,ax = plt.subplots(figsize=(8,6))\n",
    "for i in range(3):\n",
    "    plt.scatter(df_facteur_cout_f_versions['v{}'.format(i+1)].values,\n",
    "                df_facteur_cout_c_versions['v{}'.format(i+1)].values,\n",
    "                label = 'v{}'.format(i+1))\n",
    "    \n",
    "plt.plot(X,X_predict, c = 'r', label = 'régression linéaire : R^2 = {}'.format(np.round(reg.score(X,y),2)))\n",
    "\n",
    "for ver in facteur['Version'].unique():\n",
    "    for i, txt in enumerate(liste_compo):\n",
    "        ax.annotate(txt, (df_facteur_cout_f_versions[ver][i], df_facteur_cout_c_versions[ver][i]))\n",
    "    \n",
    "plt.xlabel(\"occurences\")\n",
    "plt.title(\"évolution du coût total selon le nombre d'occurences\")\n",
    "plt.ylabel(\"coût total \")\n",
    "plt.legend()\n",
    "plt.show()"
   ]
  },
  {
   "cell_type": "markdown",
   "id": "clear-preservation",
   "metadata": {},
   "source": [
    "Visuellement et avec le $R^{2}$ notre régression linéaire semble adapté. De plus comme on est dans le cas univarié, $R^{2}$ est la  corrélation de l'occurence et du coût total.     \n",
    "Comme $R^{2} = 0.82$, notre modèle explique 82% de la variance de nos données.    \n",
    "Toutefois on se hurte au même problème que précédemment : on dit simplement que plus un composant doit être réparer, plus le coût total est élevé. Finalement notre modèle ne nous aide pas.    \n",
    "Regardons donc le cas où l'on s'intéresse non plus au coût total mais au coût moyen."
   ]
  },
  {
   "cell_type": "markdown",
   "id": "private-treatment",
   "metadata": {},
   "source": [
    "### II.1.2) recherche de modèle occurence-coût moyen"
   ]
  },
  {
   "cell_type": "code",
   "execution_count": 50,
   "id": "fixed-vietnam",
   "metadata": {},
   "outputs": [
    {
     "data": {
      "image/png": "[encoded data removed]",
      "text/plain": [
       "<Figure size 576x432 with 1 Axes>"
      ]
     },
     "metadata": {
      "needs_background": "light"
     },
     "output_type": "display_data"
    }
   ],
   "source": [
    "fig,ax = plt.subplots(figsize=(8,6))\n",
    "for i in range(3):\n",
    "    plt.scatter(df_facteur_cout_f_versions['v{}'.format(i+1)].values,\n",
    "                df_ratio_cout_facteur['v{}'.format(i+1)].values,\n",
    "                label = 'v{}'.format(i+1))\n",
    "\n",
    "for ver in facteur['Version'].unique():\n",
    "    for i, txt in enumerate(liste_compo):\n",
    "        ax.annotate(txt, (df_facteur_cout_f_versions[ver][i], df_ratio_cout_facteur[ver][i]))\n",
    "    \n",
    "plt.xlabel(\"occurences\")\n",
    "plt.title(\"évolution du coût moyen selon le nombre d'occurences\")\n",
    "plt.ylabel(\"coût moyen \")\n",
    "plt.legend()\n",
    "plt.show()"
   ]
  },
  {
   "cell_type": "markdown",
   "id": "boring-principle",
   "metadata": {},
   "source": [
    "Malheuresement ici aucun modèle ne semble intéressant à utiliser. On peut simplement dire que comme prévu précédemment, les pannes dû à X11 sont celles qui maximisent le coût moyen par panne donc qu'il serait intéressant de regarder ça.     \n",
    "Comme quoi, on ne tombe pas toujours sur un modèle."
   ]
  },
  {
   "cell_type": "markdown",
   "id": "crucial-corps",
   "metadata": {},
   "source": [
    "### II.2)  relation occurence-durée"
   ]
  },
  {
   "cell_type": "markdown",
   "id": "minor-oliver",
   "metadata": {},
   "source": [
    "Comme l'appareil étudié dispose de deux modes de fonctionnement, on peut se demander si on mode de fonctionnement abîme plus les  composants qu'un autre. On va donc chercher à voir s'il existe un lien entre occurence et durée de fonctionnement.    \n",
    "Comme ici le coût n'a pas d'impact (n'entre pas dans la relation) on va pouvoir utiliser le dataframe facteur qui possède bien plus de données."
   ]
  },
  {
   "cell_type": "code",
   "execution_count": 51,
   "id": "ready-kazakhstan",
   "metadata": {},
   "outputs": [],
   "source": [
    "test_col_D1 = []\n",
    "test_col_D2 = []\n",
    "for val in facteur.columns:\n",
    "    if ( val == \"Version\" ) | (val.startswith('X') ):\n",
    "        test_col_D1.append(val)\n",
    "        test_col_D2.append(val)\n",
    "    if (val == 'D1'):\n",
    "        test_col_D1.append(val)\n",
    "    if (val == 'D2'):\n",
    "        test_col_D2.append(val)\n",
    "        \n",
    "facteur_D1 = facteur[test_col_D1]\n",
    "facteur_D2 = facteur[test_col_D2]\n",
    "\n",
    "# On ne garde que le cas des composants qui ont tournés un minimum dans leur mode respectif\n",
    "facteur_D1 = facteur_D1[facteur_D1['D1'] > 0]\n",
    "facteur_D2 = facteur_D2[facteur_D2['D2'] > 0]"
   ]
  },
  {
   "cell_type": "code",
   "execution_count": 52,
   "id": "selective-active",
   "metadata": {},
   "outputs": [
    {
     "data": {
      "text/html": [
       "<div>\n",
       "<style scoped>\n",
       "    .dataframe tbody tr th:only-of-type {\n",
       "        vertical-align: middle;\n",
       "    }\n",
       "\n",
       "    .dataframe tbody tr th {\n",
       "        vertical-align: top;\n",
       "    }\n",
       "\n",
       "    .dataframe thead th {\n",
       "        text-align: right;\n",
       "    }\n",
       "</style>\n",
       "<table border=\"1\" class=\"dataframe\">\n",
       "  <thead>\n",
       "    <tr style=\"text-align: right;\">\n",
       "      <th></th>\n",
       "      <th>Version</th>\n",
       "      <th>D1</th>\n",
       "      <th>X1</th>\n",
       "      <th>X2</th>\n",
       "      <th>X3</th>\n",
       "      <th>X4</th>\n",
       "      <th>X5</th>\n",
       "      <th>X6</th>\n",
       "      <th>X7</th>\n",
       "      <th>X8</th>\n",
       "      <th>X9</th>\n",
       "      <th>X10</th>\n",
       "      <th>X11</th>\n",
       "      <th>X12</th>\n",
       "      <th>X13</th>\n",
       "      <th>X14</th>\n",
       "      <th>X15</th>\n",
       "    </tr>\n",
       "  </thead>\n",
       "  <tbody>\n",
       "    <tr>\n",
       "      <th>0</th>\n",
       "      <td>v3</td>\n",
       "      <td>13665.09</td>\n",
       "      <td>0</td>\n",
       "      <td>0</td>\n",
       "      <td>0</td>\n",
       "      <td>1</td>\n",
       "      <td>0</td>\n",
       "      <td>1</td>\n",
       "      <td>0</td>\n",
       "      <td>0</td>\n",
       "      <td>0</td>\n",
       "      <td>0</td>\n",
       "      <td>0</td>\n",
       "      <td>0</td>\n",
       "      <td>0</td>\n",
       "      <td>0</td>\n",
       "      <td>0</td>\n",
       "    </tr>\n",
       "    <tr>\n",
       "      <th>1</th>\n",
       "      <td>v2</td>\n",
       "      <td>4888.38</td>\n",
       "      <td>0</td>\n",
       "      <td>0</td>\n",
       "      <td>0</td>\n",
       "      <td>1</td>\n",
       "      <td>0</td>\n",
       "      <td>1</td>\n",
       "      <td>0</td>\n",
       "      <td>1</td>\n",
       "      <td>0</td>\n",
       "      <td>0</td>\n",
       "      <td>0</td>\n",
       "      <td>0</td>\n",
       "      <td>0</td>\n",
       "      <td>0</td>\n",
       "      <td>0</td>\n",
       "    </tr>\n",
       "    <tr>\n",
       "      <th>2</th>\n",
       "      <td>v1</td>\n",
       "      <td>10273.96</td>\n",
       "      <td>1</td>\n",
       "      <td>0</td>\n",
       "      <td>1</td>\n",
       "      <td>1</td>\n",
       "      <td>0</td>\n",
       "      <td>1</td>\n",
       "      <td>0</td>\n",
       "      <td>0</td>\n",
       "      <td>0</td>\n",
       "      <td>1</td>\n",
       "      <td>0</td>\n",
       "      <td>0</td>\n",
       "      <td>0</td>\n",
       "      <td>1</td>\n",
       "      <td>0</td>\n",
       "    </tr>\n",
       "    <tr>\n",
       "      <th>3</th>\n",
       "      <td>v2</td>\n",
       "      <td>2149.26</td>\n",
       "      <td>0</td>\n",
       "      <td>0</td>\n",
       "      <td>0</td>\n",
       "      <td>0</td>\n",
       "      <td>0</td>\n",
       "      <td>0</td>\n",
       "      <td>1</td>\n",
       "      <td>0</td>\n",
       "      <td>0</td>\n",
       "      <td>1</td>\n",
       "      <td>0</td>\n",
       "      <td>0</td>\n",
       "      <td>0</td>\n",
       "      <td>0</td>\n",
       "      <td>0</td>\n",
       "    </tr>\n",
       "    <tr>\n",
       "      <th>4</th>\n",
       "      <td>v3</td>\n",
       "      <td>1.13</td>\n",
       "      <td>0</td>\n",
       "      <td>0</td>\n",
       "      <td>0</td>\n",
       "      <td>0</td>\n",
       "      <td>0</td>\n",
       "      <td>0</td>\n",
       "      <td>0</td>\n",
       "      <td>0</td>\n",
       "      <td>0</td>\n",
       "      <td>0</td>\n",
       "      <td>0</td>\n",
       "      <td>0</td>\n",
       "      <td>0</td>\n",
       "      <td>0</td>\n",
       "      <td>1</td>\n",
       "    </tr>\n",
       "  </tbody>\n",
       "</table>\n",
       "</div>"
      ],
      "text/plain": [
       "  Version        D1  X1  X2  X3  X4  X5  X6  X7  X8  X9  X10  X11  X12  X13  \\\n",
       "0      v3  13665.09   0   0   0   1   0   1   0   0   0    0    0    0    0   \n",
       "1      v2   4888.38   0   0   0   1   0   1   0   1   0    0    0    0    0   \n",
       "2      v1  10273.96   1   0   1   1   0   1   0   0   0    1    0    0    0   \n",
       "3      v2   2149.26   0   0   0   0   0   0   1   0   0    1    0    0    0   \n",
       "4      v3      1.13   0   0   0   0   0   0   0   0   0    0    0    0    0   \n",
       "\n",
       "   X14  X15  \n",
       "0    0    0  \n",
       "1    0    0  \n",
       "2    1    0  \n",
       "3    0    0  \n",
       "4    0    1  "
      ]
     },
     "execution_count": 52,
     "metadata": {},
     "output_type": "execute_result"
    }
   ],
   "source": [
    "facteur_D1.head()"
   ]
  },
  {
   "cell_type": "code",
   "execution_count": 53,
   "id": "adopted-platinum",
   "metadata": {},
   "outputs": [
    {
     "data": {
      "text/html": [
       "<div>\n",
       "<style scoped>\n",
       "    .dataframe tbody tr th:only-of-type {\n",
       "        vertical-align: middle;\n",
       "    }\n",
       "\n",
       "    .dataframe tbody tr th {\n",
       "        vertical-align: top;\n",
       "    }\n",
       "\n",
       "    .dataframe thead th {\n",
       "        text-align: right;\n",
       "    }\n",
       "</style>\n",
       "<table border=\"1\" class=\"dataframe\">\n",
       "  <thead>\n",
       "    <tr style=\"text-align: right;\">\n",
       "      <th></th>\n",
       "      <th>Version</th>\n",
       "      <th>D2</th>\n",
       "      <th>X1</th>\n",
       "      <th>X2</th>\n",
       "      <th>X3</th>\n",
       "      <th>X4</th>\n",
       "      <th>X5</th>\n",
       "      <th>X6</th>\n",
       "      <th>X7</th>\n",
       "      <th>X8</th>\n",
       "      <th>X9</th>\n",
       "      <th>X10</th>\n",
       "      <th>X11</th>\n",
       "      <th>X12</th>\n",
       "      <th>X13</th>\n",
       "      <th>X14</th>\n",
       "      <th>X15</th>\n",
       "    </tr>\n",
       "  </thead>\n",
       "  <tbody>\n",
       "    <tr>\n",
       "      <th>0</th>\n",
       "      <td>v3</td>\n",
       "      <td>11751.56</td>\n",
       "      <td>0</td>\n",
       "      <td>0</td>\n",
       "      <td>0</td>\n",
       "      <td>1</td>\n",
       "      <td>0</td>\n",
       "      <td>1</td>\n",
       "      <td>0</td>\n",
       "      <td>0</td>\n",
       "      <td>0</td>\n",
       "      <td>0</td>\n",
       "      <td>0</td>\n",
       "      <td>0</td>\n",
       "      <td>0</td>\n",
       "      <td>0</td>\n",
       "      <td>0</td>\n",
       "    </tr>\n",
       "    <tr>\n",
       "      <th>1</th>\n",
       "      <td>v2</td>\n",
       "      <td>3944.48</td>\n",
       "      <td>0</td>\n",
       "      <td>0</td>\n",
       "      <td>0</td>\n",
       "      <td>1</td>\n",
       "      <td>0</td>\n",
       "      <td>1</td>\n",
       "      <td>0</td>\n",
       "      <td>1</td>\n",
       "      <td>0</td>\n",
       "      <td>0</td>\n",
       "      <td>0</td>\n",
       "      <td>0</td>\n",
       "      <td>0</td>\n",
       "      <td>0</td>\n",
       "      <td>0</td>\n",
       "    </tr>\n",
       "    <tr>\n",
       "      <th>2</th>\n",
       "      <td>v1</td>\n",
       "      <td>13592.97</td>\n",
       "      <td>1</td>\n",
       "      <td>0</td>\n",
       "      <td>1</td>\n",
       "      <td>1</td>\n",
       "      <td>0</td>\n",
       "      <td>1</td>\n",
       "      <td>0</td>\n",
       "      <td>0</td>\n",
       "      <td>0</td>\n",
       "      <td>1</td>\n",
       "      <td>0</td>\n",
       "      <td>0</td>\n",
       "      <td>0</td>\n",
       "      <td>1</td>\n",
       "      <td>0</td>\n",
       "    </tr>\n",
       "    <tr>\n",
       "      <th>3</th>\n",
       "      <td>v2</td>\n",
       "      <td>3965.84</td>\n",
       "      <td>0</td>\n",
       "      <td>0</td>\n",
       "      <td>0</td>\n",
       "      <td>0</td>\n",
       "      <td>0</td>\n",
       "      <td>0</td>\n",
       "      <td>1</td>\n",
       "      <td>0</td>\n",
       "      <td>0</td>\n",
       "      <td>1</td>\n",
       "      <td>0</td>\n",
       "      <td>0</td>\n",
       "      <td>0</td>\n",
       "      <td>0</td>\n",
       "      <td>0</td>\n",
       "    </tr>\n",
       "    <tr>\n",
       "      <th>4</th>\n",
       "      <td>v3</td>\n",
       "      <td>6.23</td>\n",
       "      <td>0</td>\n",
       "      <td>0</td>\n",
       "      <td>0</td>\n",
       "      <td>0</td>\n",
       "      <td>0</td>\n",
       "      <td>0</td>\n",
       "      <td>0</td>\n",
       "      <td>0</td>\n",
       "      <td>0</td>\n",
       "      <td>0</td>\n",
       "      <td>0</td>\n",
       "      <td>0</td>\n",
       "      <td>0</td>\n",
       "      <td>0</td>\n",
       "      <td>1</td>\n",
       "    </tr>\n",
       "  </tbody>\n",
       "</table>\n",
       "</div>"
      ],
      "text/plain": [
       "  Version        D2  X1  X2  X3  X4  X5  X6  X7  X8  X9  X10  X11  X12  X13  \\\n",
       "0      v3  11751.56   0   0   0   1   0   1   0   0   0    0    0    0    0   \n",
       "1      v2   3944.48   0   0   0   1   0   1   0   1   0    0    0    0    0   \n",
       "2      v1  13592.97   1   0   1   1   0   1   0   0   0    1    0    0    0   \n",
       "3      v2   3965.84   0   0   0   0   0   0   1   0   0    1    0    0    0   \n",
       "4      v3      6.23   0   0   0   0   0   0   0   0   0    0    0    0    0   \n",
       "\n",
       "   X14  X15  \n",
       "0    0    0  \n",
       "1    0    0  \n",
       "2    1    0  \n",
       "3    0    0  \n",
       "4    0    1  "
      ]
     },
     "execution_count": 53,
     "metadata": {},
     "output_type": "execute_result"
    }
   ],
   "source": [
    "facteur_D2.head()"
   ]
  },
  {
   "cell_type": "code",
   "execution_count": 54,
   "id": "august-vector",
   "metadata": {},
   "outputs": [
    {
     "name": "stdout",
     "output_type": "stream",
     "text": [
      "On a 440 cas de pannes recensés lorsqu'il y'a eu D1\n",
      "On a 441 cas de pannes recensés lorsqu'il y'a eu D2\n"
     ]
    }
   ],
   "source": [
    "print(\"On a {} cas de pannes recensés lorsqu'il y'a eu D1\".format(facteur_D1.shape[0]))\n",
    "print(\"On a {} cas de pannes recensés lorsqu'il y'a eu D2\".format(facteur_D2.shape[0]))"
   ]
  },
  {
   "cell_type": "code",
   "execution_count": 55,
   "id": "closed-volunteer",
   "metadata": {},
   "outputs": [
    {
     "data": {
      "image/png": "[encoded data removed]",
      "text/plain": [
       "<Figure size 576x432 with 1 Axes>"
      ]
     },
     "metadata": {
      "needs_background": "light"
     },
     "output_type": "display_data"
    }
   ],
   "source": [
    "temps_D1 = np.zeros(len(liste_compo))\n",
    "temps_D2 = np.zeros(len(liste_compo))\n",
    "\n",
    "for indx in facteur_D1.index:\n",
    "    for k in range(1,16):\n",
    "        if(facteur_D1.loc[indx,'X{}'.format(k)] == 1):\n",
    "            temps_D1[k-1] += facteur_D1.loc[indx,'D1'] \n",
    "\n",
    "for indx in facteur_D2.index:\n",
    "    for k in range(1,16):\n",
    "        if(facteur_D2.loc[indx,'X{}'.format(k)] == 1):\n",
    "            temps_D2[k-1] += facteur_D2.loc[indx,'D2']             \n",
    "\n",
    "            \n",
    "for k in range(1,16):\n",
    "    if(k != 12):\n",
    "        temps_D1[k-1] /= facteur_D1['X{}'.format(k)].sum(axis = 0)\n",
    "        temps_D2[k-1] /= facteur_D2['X{}'.format(k)].sum(axis = 0)\n",
    "\n",
    "\n",
    "fig, ax = plt.subplots(figsize=(8,6))\n",
    "ax.scatter(temps_D1, facteur_D1[liste_compo].sum(axis = 0), label=\"mode 1\")\n",
    "ax.scatter(temps_D2, facteur_D2[liste_compo].sum(axis = 0), label=\"mode 2\")\n",
    "\n",
    "# pour que ce soit plus lisible, on va afficher le nom des composants sur le plot\n",
    "for i, txt in enumerate(liste_compo):\n",
    "    ax.annotate(txt, (temps_D1[i], facteur_D1[liste_compo].sum(axis = 0)[i]))\n",
    "    ax.annotate(txt, (temps_D2[i], facteur_D2[liste_compo].sum(axis = 0)[i]))\n",
    "    \n",
    "plt.xlabel(\"durée moyenne d'utilisation avant panne\")\n",
    "plt.title(\"Nombre d'occurences selon la durée moyenne d'utilisation avant panne\")\n",
    "plt.ylabel(\"nombre d'occurence\")\n",
    "plt.legend()\n",
    "plt.show()"
   ]
  },
  {
   "cell_type": "code",
   "execution_count": 56,
   "id": "broad-ukraine",
   "metadata": {},
   "outputs": [
    {
     "data": {
      "image/png": "[encoded data removed]",
      "text/plain": [
       "<Figure size 576x432 with 1 Axes>"
      ]
     },
     "metadata": {
      "needs_background": "light"
     },
     "output_type": "display_data"
    }
   ],
   "source": [
    "diff_duree_fonctionnement = temps_D2 - temps_D1\n",
    "\n",
    "plt.subplots(figsize=(8,6))\n",
    "plt.bar(liste_compo,diff_duree_fonctionnement)\n",
    "plt.ylabel(\"D2 - D1\")\n",
    "plt.title(\"Différence de temps de fonctionnement \")\n",
    "plt.show()"
   ]
  },
  {
   "cell_type": "markdown",
   "id": "amazing-commissioner",
   "metadata": {},
   "source": [
    "Ce graphique nous permet de dire que les composants 4 et 6 sont ceux que l'on revoit le plus souvent alors qu'ils n'ont pas été tant utilisés suivis des composants 14 et 1. On peut aussi voir que le mode joue car le mode 1 semble abîmer plus vite les composants et il s'agit d'une tendance générale à l'exception du composant X7."
   ]
  },
  {
   "cell_type": "markdown",
   "id": "prime-armstrong",
   "metadata": {},
   "source": [
    "## Conclusion "
   ]
  },
  {
   "cell_type": "markdown",
   "id": "binding-probability",
   "metadata": {},
   "source": [
    "On a pu par l'intermédiaire de différentes techniques, identifier les composants les plus problématiques:     \n",
    "- En regardant les occurences totales, on a pu voir que les composants **X4**,**X6**,**X14**,**X1** sont les composants qui doivent être réparés le plus souvent et qui impliquent donc un coût total plus élevé que les autres.        \n",
    "\n",
    "- Après s'être intéressé au ratio coût/occurence, on a pu remarquer que ce sont les composants **X11** (loin devant), **X15**, **X14**,**X1**.        \n",
    "\n",
    "- En s'intéréssant maintenant aux durées de fonctionnement moyenne avant panne on a pu remarquer que le mode de fonctionnement 1 abîmait plus vite les composants que le 2. Aussi que la plupart des composants s'agglutinent autour de la moyenne de la durée moyenne de fonctionnement avant panne mais qu'il y'a de grands écarts d'occurences. En effet **X4**,**X6**,**X14**,**X1** sont bien plus souvent âbimés et **X11** et **X15** bien moins en étant relativement proche de la même durée de fonctionnement. \n",
    "\n",
    "Conseils pour le fabricant :    \n",
    "- Etant donné le coût moyen élevé de X11, il serait pertinent de voir si on peut réduire ce coût même si le fait qu'on ait peut d'occurences de X11 pourrait signifier qu'il est compliqué d'encore plus le fiabiliser. X15 le serait un peu plus car il semble poser problème plus souvent.\n",
    "- X4,X6,X14,X1 semblent être les composants à prioritisier si on arrive à réduire les problèmes sur ces composants, on réduirait drastiquement le coût total est \"globalement\" linéaire par rapport aux occurences, pouvoir diviser le nombre d'occurences par deux (en supposant que ce soit possible) reviendrait à diviser le coût total par deux ce qui est clairement non négligeable. \n",
    "- De façon plus générale, il faudrait regarder pourquoi le mode 1 abîme bien plus les composants. Si on comprendre pourquoi (voir la mécanique de l'appareil sur lequel on travaille) on pourrait augmenter la durée de vie des composants (et peut-être espérer que cela soit plus grand que la durée de la garantie afin de ne rien réparer nous-même). \n",
    "\n",
    "Bien sûr cela n'est valable que dans le monde où nos hypothèses sont vraies. L'hypothèse de l'uniformité des coûts de réparation des composants pour chaque panne est peut-être un peu forte, il faudrait pouvoir parler avec le fabricant pour avoir plus d'informations et affiner notre modèle. Ne pas connaître le nombre de versions totales produites est aussi problématique car pour la fiabiltié on ne sait trop dire si une version est forcément meilleure qu'une autre."
   ]
  }
 ],
 "metadata": {
  "kernelspec": {
   "display_name": "Python 3",
   "language": "python",
   "name": "python3"
  },
  "language_info": {
   "codemirror_mode": {
    "name": "ipython",
    "version": 3
   },
   "file_extension": ".py",
   "mimetype": "text/x-python",
   "name": "python",
   "nbconvert_exporter": "python",
   "pygments_lexer": "ipython3",
   "version": "3.7.10"
  }
 },
 "nbformat": 4,
 "nbformat_minor": 5
}
